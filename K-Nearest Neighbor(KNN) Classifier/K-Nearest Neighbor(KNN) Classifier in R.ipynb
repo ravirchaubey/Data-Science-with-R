{
 "cells": [
  {
   "cell_type": "code",
   "execution_count": 3,
   "id": "eaf80c30",
   "metadata": {},
   "outputs": [
    {
     "data": {
      "text/html": [
       "<table>\n",
       "<thead><tr><th scope=col>id</th><th scope=col>diagnosis</th><th scope=col>radius_mean</th><th scope=col>texture_mean</th><th scope=col>perimeter_mean</th><th scope=col>area_mean</th><th scope=col>smoothness_mean</th><th scope=col>compactness_mean</th><th scope=col>concavity_mean</th><th scope=col>concave.points_mean</th><th scope=col>...</th><th scope=col>radius_worst</th><th scope=col>texture_worst</th><th scope=col>perimeter_worst</th><th scope=col>area_worst</th><th scope=col>smoothness_worst</th><th scope=col>compactness_worst</th><th scope=col>concavity_worst</th><th scope=col>concave.points_worst</th><th scope=col>symmetry_worst</th><th scope=col>fractal_dimension_worst</th></tr></thead>\n",
       "<tbody>\n",
       "\t<tr><td>  842302</td><td>M       </td><td>17.99   </td><td>10.38   </td><td>122.80  </td><td>1001.0  </td><td>0.11840 </td><td>0.27760 </td><td>0.3001  </td><td>0.14710 </td><td>...     </td><td>25.38   </td><td>17.33   </td><td>184.60  </td><td>2019.0  </td><td>0.1622  </td><td>0.6656  </td><td>0.7119  </td><td>0.2654  </td><td>0.4601  </td><td>0.11890 </td></tr>\n",
       "\t<tr><td>  842517</td><td>M       </td><td>20.57   </td><td>17.77   </td><td>132.90  </td><td>1326.0  </td><td>0.08474 </td><td>0.07864 </td><td>0.0869  </td><td>0.07017 </td><td>...     </td><td>24.99   </td><td>23.41   </td><td>158.80  </td><td>1956.0  </td><td>0.1238  </td><td>0.1866  </td><td>0.2416  </td><td>0.1860  </td><td>0.2750  </td><td>0.08902 </td></tr>\n",
       "\t<tr><td>84300903</td><td>M       </td><td>19.69   </td><td>21.25   </td><td>130.00  </td><td>1203.0  </td><td>0.10960 </td><td>0.15990 </td><td>0.1974  </td><td>0.12790 </td><td>...     </td><td>23.57   </td><td>25.53   </td><td>152.50  </td><td>1709.0  </td><td>0.1444  </td><td>0.4245  </td><td>0.4504  </td><td>0.2430  </td><td>0.3613  </td><td>0.08758 </td></tr>\n",
       "\t<tr><td>84348301</td><td>M       </td><td>11.42   </td><td>20.38   </td><td> 77.58  </td><td> 386.1  </td><td>0.14250 </td><td>0.28390 </td><td>0.2414  </td><td>0.10520 </td><td>...     </td><td>14.91   </td><td>26.50   </td><td> 98.87  </td><td> 567.7  </td><td>0.2098  </td><td>0.8663  </td><td>0.6869  </td><td>0.2575  </td><td>0.6638  </td><td>0.17300 </td></tr>\n",
       "\t<tr><td>84358402</td><td>M       </td><td>20.29   </td><td>14.34   </td><td>135.10  </td><td>1297.0  </td><td>0.10030 </td><td>0.13280 </td><td>0.1980  </td><td>0.10430 </td><td>...     </td><td>22.54   </td><td>16.67   </td><td>152.20  </td><td>1575.0  </td><td>0.1374  </td><td>0.2050  </td><td>0.4000  </td><td>0.1625  </td><td>0.2364  </td><td>0.07678 </td></tr>\n",
       "\t<tr><td>  843786</td><td>M       </td><td>12.45   </td><td>15.70   </td><td> 82.57  </td><td> 477.1  </td><td>0.12780 </td><td>0.17000 </td><td>0.1578  </td><td>0.08089 </td><td>...     </td><td>15.47   </td><td>23.75   </td><td>103.40  </td><td> 741.6  </td><td>0.1791  </td><td>0.5249  </td><td>0.5355  </td><td>0.1741  </td><td>0.3985  </td><td>0.12440 </td></tr>\n",
       "</tbody>\n",
       "</table>\n"
      ],
      "text/latex": [
       "\\begin{tabular}{r|llllllllllllllllllllllllllllllll}\n",
       " id & diagnosis & radius\\_mean & texture\\_mean & perimeter\\_mean & area\\_mean & smoothness\\_mean & compactness\\_mean & concavity\\_mean & concave.points\\_mean & ... & radius\\_worst & texture\\_worst & perimeter\\_worst & area\\_worst & smoothness\\_worst & compactness\\_worst & concavity\\_worst & concave.points\\_worst & symmetry\\_worst & fractal\\_dimension\\_worst\\\\\n",
       "\\hline\n",
       "\t   842302 & M        & 17.99    & 10.38    & 122.80   & 1001.0   & 0.11840  & 0.27760  & 0.3001   & 0.14710  & ...      & 25.38    & 17.33    & 184.60   & 2019.0   & 0.1622   & 0.6656   & 0.7119   & 0.2654   & 0.4601   & 0.11890 \\\\\n",
       "\t   842517 & M        & 20.57    & 17.77    & 132.90   & 1326.0   & 0.08474  & 0.07864  & 0.0869   & 0.07017  & ...      & 24.99    & 23.41    & 158.80   & 1956.0   & 0.1238   & 0.1866   & 0.2416   & 0.1860   & 0.2750   & 0.08902 \\\\\n",
       "\t 84300903 & M        & 19.69    & 21.25    & 130.00   & 1203.0   & 0.10960  & 0.15990  & 0.1974   & 0.12790  & ...      & 23.57    & 25.53    & 152.50   & 1709.0   & 0.1444   & 0.4245   & 0.4504   & 0.2430   & 0.3613   & 0.08758 \\\\\n",
       "\t 84348301 & M        & 11.42    & 20.38    &  77.58   &  386.1   & 0.14250  & 0.28390  & 0.2414   & 0.10520  & ...      & 14.91    & 26.50    &  98.87   &  567.7   & 0.2098   & 0.8663   & 0.6869   & 0.2575   & 0.6638   & 0.17300 \\\\\n",
       "\t 84358402 & M        & 20.29    & 14.34    & 135.10   & 1297.0   & 0.10030  & 0.13280  & 0.1980   & 0.10430  & ...      & 22.54    & 16.67    & 152.20   & 1575.0   & 0.1374   & 0.2050   & 0.4000   & 0.1625   & 0.2364   & 0.07678 \\\\\n",
       "\t   843786 & M        & 12.45    & 15.70    &  82.57   &  477.1   & 0.12780  & 0.17000  & 0.1578   & 0.08089  & ...      & 15.47    & 23.75    & 103.40   &  741.6   & 0.1791   & 0.5249   & 0.5355   & 0.1741   & 0.3985   & 0.12440 \\\\\n",
       "\\end{tabular}\n"
      ],
      "text/markdown": [
       "\n",
       "| id | diagnosis | radius_mean | texture_mean | perimeter_mean | area_mean | smoothness_mean | compactness_mean | concavity_mean | concave.points_mean | ... | radius_worst | texture_worst | perimeter_worst | area_worst | smoothness_worst | compactness_worst | concavity_worst | concave.points_worst | symmetry_worst | fractal_dimension_worst |\n",
       "|---|---|---|---|---|---|---|---|---|---|---|---|---|---|---|---|---|---|---|---|---|\n",
       "|   842302 | M        | 17.99    | 10.38    | 122.80   | 1001.0   | 0.11840  | 0.27760  | 0.3001   | 0.14710  | ...      | 25.38    | 17.33    | 184.60   | 2019.0   | 0.1622   | 0.6656   | 0.7119   | 0.2654   | 0.4601   | 0.11890  |\n",
       "|   842517 | M        | 20.57    | 17.77    | 132.90   | 1326.0   | 0.08474  | 0.07864  | 0.0869   | 0.07017  | ...      | 24.99    | 23.41    | 158.80   | 1956.0   | 0.1238   | 0.1866   | 0.2416   | 0.1860   | 0.2750   | 0.08902  |\n",
       "| 84300903 | M        | 19.69    | 21.25    | 130.00   | 1203.0   | 0.10960  | 0.15990  | 0.1974   | 0.12790  | ...      | 23.57    | 25.53    | 152.50   | 1709.0   | 0.1444   | 0.4245   | 0.4504   | 0.2430   | 0.3613   | 0.08758  |\n",
       "| 84348301 | M        | 11.42    | 20.38    |  77.58   |  386.1   | 0.14250  | 0.28390  | 0.2414   | 0.10520  | ...      | 14.91    | 26.50    |  98.87   |  567.7   | 0.2098   | 0.8663   | 0.6869   | 0.2575   | 0.6638   | 0.17300  |\n",
       "| 84358402 | M        | 20.29    | 14.34    | 135.10   | 1297.0   | 0.10030  | 0.13280  | 0.1980   | 0.10430  | ...      | 22.54    | 16.67    | 152.20   | 1575.0   | 0.1374   | 0.2050   | 0.4000   | 0.1625   | 0.2364   | 0.07678  |\n",
       "|   843786 | M        | 12.45    | 15.70    |  82.57   |  477.1   | 0.12780  | 0.17000  | 0.1578   | 0.08089  | ...      | 15.47    | 23.75    | 103.40   |  741.6   | 0.1791   | 0.5249   | 0.5355   | 0.1741   | 0.3985   | 0.12440  |\n",
       "\n"
      ],
      "text/plain": [
       "  id       diagnosis radius_mean texture_mean perimeter_mean area_mean\n",
       "1   842302 M         17.99       10.38        122.80         1001.0   \n",
       "2   842517 M         20.57       17.77        132.90         1326.0   \n",
       "3 84300903 M         19.69       21.25        130.00         1203.0   \n",
       "4 84348301 M         11.42       20.38         77.58          386.1   \n",
       "5 84358402 M         20.29       14.34        135.10         1297.0   \n",
       "6   843786 M         12.45       15.70         82.57          477.1   \n",
       "  smoothness_mean compactness_mean concavity_mean concave.points_mean ...\n",
       "1 0.11840         0.27760          0.3001         0.14710             ...\n",
       "2 0.08474         0.07864          0.0869         0.07017             ...\n",
       "3 0.10960         0.15990          0.1974         0.12790             ...\n",
       "4 0.14250         0.28390          0.2414         0.10520             ...\n",
       "5 0.10030         0.13280          0.1980         0.10430             ...\n",
       "6 0.12780         0.17000          0.1578         0.08089             ...\n",
       "  radius_worst texture_worst perimeter_worst area_worst smoothness_worst\n",
       "1 25.38        17.33         184.60          2019.0     0.1622          \n",
       "2 24.99        23.41         158.80          1956.0     0.1238          \n",
       "3 23.57        25.53         152.50          1709.0     0.1444          \n",
       "4 14.91        26.50          98.87           567.7     0.2098          \n",
       "5 22.54        16.67         152.20          1575.0     0.1374          \n",
       "6 15.47        23.75         103.40           741.6     0.1791          \n",
       "  compactness_worst concavity_worst concave.points_worst symmetry_worst\n",
       "1 0.6656            0.7119          0.2654               0.4601        \n",
       "2 0.1866            0.2416          0.1860               0.2750        \n",
       "3 0.4245            0.4504          0.2430               0.3613        \n",
       "4 0.8663            0.6869          0.2575               0.6638        \n",
       "5 0.2050            0.4000          0.1625               0.2364        \n",
       "6 0.5249            0.5355          0.1741               0.3985        \n",
       "  fractal_dimension_worst\n",
       "1 0.11890                \n",
       "2 0.08902                \n",
       "3 0.08758                \n",
       "4 0.17300                \n",
       "5 0.07678                \n",
       "6 0.12440                "
      ]
     },
     "metadata": {},
     "output_type": "display_data"
    }
   ],
   "source": [
    "#read data\n",
    "data1=read.csv(\"wisc_bc_data.csv\")\n",
    "head(data1)"
   ]
  },
  {
   "cell_type": "code",
   "execution_count": 4,
   "id": "8cf41ff6",
   "metadata": {},
   "outputs": [
    {
     "data": {
      "text/html": [
       "<table>\n",
       "<thead><tr><th scope=col>radius_mean</th><th scope=col>texture_mean</th><th scope=col>perimeter_mean</th><th scope=col>area_mean</th><th scope=col>smoothness_mean</th><th scope=col>compactness_mean</th><th scope=col>concavity_mean</th><th scope=col>concave.points_mean</th><th scope=col>symmetry_mean</th><th scope=col>fractal_dimension_mean</th><th scope=col>...</th><th scope=col>fractal_dimension_se</th><th scope=col>radius_worst</th><th scope=col>texture_worst</th><th scope=col>perimeter_worst</th><th scope=col>area_worst</th><th scope=col>smoothness_worst</th><th scope=col>compactness_worst</th><th scope=col>concavity_worst</th><th scope=col>concave.points_worst</th><th scope=col>symmetry_worst</th></tr></thead>\n",
       "<tbody>\n",
       "\t<tr><td>0.5210374 </td><td>0.0226581 </td><td>0.5459885 </td><td>0.3637328 </td><td>0.5937528 </td><td>0.7920373 </td><td>0.7031396 </td><td>0.7311133 </td><td>0.6863636 </td><td>0.6055181 </td><td>...       </td><td>0.1830424 </td><td>0.6207755 </td><td>0.1415245 </td><td>0.6683102 </td><td>0.45069799</td><td>0.6011358 </td><td>0.6192916 </td><td>0.5686102 </td><td>0.9120275 </td><td>0.5984624 </td></tr>\n",
       "\t<tr><td>0.6431445 </td><td>0.2725736 </td><td>0.6157833 </td><td>0.5015907 </td><td>0.2898799 </td><td>0.1817680 </td><td>0.2036082 </td><td>0.3487575 </td><td>0.3797980 </td><td>0.1413227 </td><td>...       </td><td>0.0911101 </td><td>0.6069015 </td><td>0.3035714 </td><td>0.5398177 </td><td>0.43521431</td><td>0.3475533 </td><td>0.1545634 </td><td>0.1929712 </td><td>0.6391753 </td><td>0.2335896 </td></tr>\n",
       "\t<tr><td>0.6014956 </td><td>0.3902604 </td><td>0.5957432 </td><td>0.4494168 </td><td>0.5143089 </td><td>0.4310165 </td><td>0.4625117 </td><td>0.6356859 </td><td>0.5095960 </td><td>0.2112468 </td><td>...       </td><td>0.1270055 </td><td>0.5563856 </td><td>0.3600746 </td><td>0.5084417 </td><td>0.37450845</td><td>0.4835898 </td><td>0.3853751 </td><td>0.3597444 </td><td>0.8350515 </td><td>0.4037059 </td></tr>\n",
       "\t<tr><td>0.2100904 </td><td>0.3608387 </td><td>0.2335015 </td><td>0.1029056 </td><td>0.8113208 </td><td>0.8113613 </td><td>0.5656045 </td><td>0.5228628 </td><td>0.7762626 </td><td>1.0000000 </td><td>...       </td><td>0.2872048 </td><td>0.2483102 </td><td>0.3859275 </td><td>0.2413467 </td><td>0.09400806</td><td>0.9154725 </td><td>0.8140117 </td><td>0.5486422 </td><td>0.8848797 </td><td>1.0000000 </td></tr>\n",
       "\t<tr><td>0.6298926 </td><td>0.1565776 </td><td>0.6309861 </td><td>0.4892895 </td><td>0.4303512 </td><td>0.3478928 </td><td>0.4639175 </td><td>0.5183897 </td><td>0.3782828 </td><td>0.1868155 </td><td>...       </td><td>0.1457996 </td><td>0.5197439 </td><td>0.1239339 </td><td>0.5069476 </td><td>0.34157491</td><td>0.4373638 </td><td>0.1724151 </td><td>0.3194888 </td><td>0.5584192 </td><td>0.1575005 </td></tr>\n",
       "\t<tr><td>0.2588386 </td><td>0.2025702 </td><td>0.2679842 </td><td>0.1415058 </td><td>0.6786133 </td><td>0.4619962 </td><td>0.3697282 </td><td>0.4020378 </td><td>0.5186869 </td><td>0.5511794 </td><td>...       </td><td>0.1446596 </td><td>0.2682319 </td><td>0.3126333 </td><td>0.2639076 </td><td>0.13674794</td><td>0.7127386 </td><td>0.4827837 </td><td>0.4277157 </td><td>0.5982818 </td><td>0.4770353 </td></tr>\n",
       "</tbody>\n",
       "</table>\n"
      ],
      "text/latex": [
       "\\begin{tabular}{r|lllllllllllllllllllllllllllll}\n",
       " radius\\_mean & texture\\_mean & perimeter\\_mean & area\\_mean & smoothness\\_mean & compactness\\_mean & concavity\\_mean & concave.points\\_mean & symmetry\\_mean & fractal\\_dimension\\_mean & ... & fractal\\_dimension\\_se & radius\\_worst & texture\\_worst & perimeter\\_worst & area\\_worst & smoothness\\_worst & compactness\\_worst & concavity\\_worst & concave.points\\_worst & symmetry\\_worst\\\\\n",
       "\\hline\n",
       "\t 0.5210374  & 0.0226581  & 0.5459885  & 0.3637328  & 0.5937528  & 0.7920373  & 0.7031396  & 0.7311133  & 0.6863636  & 0.6055181  & ...        & 0.1830424  & 0.6207755  & 0.1415245  & 0.6683102  & 0.45069799 & 0.6011358  & 0.6192916  & 0.5686102  & 0.9120275  & 0.5984624 \\\\\n",
       "\t 0.6431445  & 0.2725736  & 0.6157833  & 0.5015907  & 0.2898799  & 0.1817680  & 0.2036082  & 0.3487575  & 0.3797980  & 0.1413227  & ...        & 0.0911101  & 0.6069015  & 0.3035714  & 0.5398177  & 0.43521431 & 0.3475533  & 0.1545634  & 0.1929712  & 0.6391753  & 0.2335896 \\\\\n",
       "\t 0.6014956  & 0.3902604  & 0.5957432  & 0.4494168  & 0.5143089  & 0.4310165  & 0.4625117  & 0.6356859  & 0.5095960  & 0.2112468  & ...        & 0.1270055  & 0.5563856  & 0.3600746  & 0.5084417  & 0.37450845 & 0.4835898  & 0.3853751  & 0.3597444  & 0.8350515  & 0.4037059 \\\\\n",
       "\t 0.2100904  & 0.3608387  & 0.2335015  & 0.1029056  & 0.8113208  & 0.8113613  & 0.5656045  & 0.5228628  & 0.7762626  & 1.0000000  & ...        & 0.2872048  & 0.2483102  & 0.3859275  & 0.2413467  & 0.09400806 & 0.9154725  & 0.8140117  & 0.5486422  & 0.8848797  & 1.0000000 \\\\\n",
       "\t 0.6298926  & 0.1565776  & 0.6309861  & 0.4892895  & 0.4303512  & 0.3478928  & 0.4639175  & 0.5183897  & 0.3782828  & 0.1868155  & ...        & 0.1457996  & 0.5197439  & 0.1239339  & 0.5069476  & 0.34157491 & 0.4373638  & 0.1724151  & 0.3194888  & 0.5584192  & 0.1575005 \\\\\n",
       "\t 0.2588386  & 0.2025702  & 0.2679842  & 0.1415058  & 0.6786133  & 0.4619962  & 0.3697282  & 0.4020378  & 0.5186869  & 0.5511794  & ...        & 0.1446596  & 0.2682319  & 0.3126333  & 0.2639076  & 0.13674794 & 0.7127386  & 0.4827837  & 0.4277157  & 0.5982818  & 0.4770353 \\\\\n",
       "\\end{tabular}\n"
      ],
      "text/markdown": [
       "\n",
       "| radius_mean | texture_mean | perimeter_mean | area_mean | smoothness_mean | compactness_mean | concavity_mean | concave.points_mean | symmetry_mean | fractal_dimension_mean | ... | fractal_dimension_se | radius_worst | texture_worst | perimeter_worst | area_worst | smoothness_worst | compactness_worst | concavity_worst | concave.points_worst | symmetry_worst |\n",
       "|---|---|---|---|---|---|---|---|---|---|---|---|---|---|---|---|---|---|---|---|---|\n",
       "| 0.5210374  | 0.0226581  | 0.5459885  | 0.3637328  | 0.5937528  | 0.7920373  | 0.7031396  | 0.7311133  | 0.6863636  | 0.6055181  | ...        | 0.1830424  | 0.6207755  | 0.1415245  | 0.6683102  | 0.45069799 | 0.6011358  | 0.6192916  | 0.5686102  | 0.9120275  | 0.5984624  |\n",
       "| 0.6431445  | 0.2725736  | 0.6157833  | 0.5015907  | 0.2898799  | 0.1817680  | 0.2036082  | 0.3487575  | 0.3797980  | 0.1413227  | ...        | 0.0911101  | 0.6069015  | 0.3035714  | 0.5398177  | 0.43521431 | 0.3475533  | 0.1545634  | 0.1929712  | 0.6391753  | 0.2335896  |\n",
       "| 0.6014956  | 0.3902604  | 0.5957432  | 0.4494168  | 0.5143089  | 0.4310165  | 0.4625117  | 0.6356859  | 0.5095960  | 0.2112468  | ...        | 0.1270055  | 0.5563856  | 0.3600746  | 0.5084417  | 0.37450845 | 0.4835898  | 0.3853751  | 0.3597444  | 0.8350515  | 0.4037059  |\n",
       "| 0.2100904  | 0.3608387  | 0.2335015  | 0.1029056  | 0.8113208  | 0.8113613  | 0.5656045  | 0.5228628  | 0.7762626  | 1.0000000  | ...        | 0.2872048  | 0.2483102  | 0.3859275  | 0.2413467  | 0.09400806 | 0.9154725  | 0.8140117  | 0.5486422  | 0.8848797  | 1.0000000  |\n",
       "| 0.6298926  | 0.1565776  | 0.6309861  | 0.4892895  | 0.4303512  | 0.3478928  | 0.4639175  | 0.5183897  | 0.3782828  | 0.1868155  | ...        | 0.1457996  | 0.5197439  | 0.1239339  | 0.5069476  | 0.34157491 | 0.4373638  | 0.1724151  | 0.3194888  | 0.5584192  | 0.1575005  |\n",
       "| 0.2588386  | 0.2025702  | 0.2679842  | 0.1415058  | 0.6786133  | 0.4619962  | 0.3697282  | 0.4020378  | 0.5186869  | 0.5511794  | ...        | 0.1446596  | 0.2682319  | 0.3126333  | 0.2639076  | 0.13674794 | 0.7127386  | 0.4827837  | 0.4277157  | 0.5982818  | 0.4770353  |\n",
       "\n"
      ],
      "text/plain": [
       "  radius_mean texture_mean perimeter_mean area_mean smoothness_mean\n",
       "1 0.5210374   0.0226581    0.5459885      0.3637328 0.5937528      \n",
       "2 0.6431445   0.2725736    0.6157833      0.5015907 0.2898799      \n",
       "3 0.6014956   0.3902604    0.5957432      0.4494168 0.5143089      \n",
       "4 0.2100904   0.3608387    0.2335015      0.1029056 0.8113208      \n",
       "5 0.6298926   0.1565776    0.6309861      0.4892895 0.4303512      \n",
       "6 0.2588386   0.2025702    0.2679842      0.1415058 0.6786133      \n",
       "  compactness_mean concavity_mean concave.points_mean symmetry_mean\n",
       "1 0.7920373        0.7031396      0.7311133           0.6863636    \n",
       "2 0.1817680        0.2036082      0.3487575           0.3797980    \n",
       "3 0.4310165        0.4625117      0.6356859           0.5095960    \n",
       "4 0.8113613        0.5656045      0.5228628           0.7762626    \n",
       "5 0.3478928        0.4639175      0.5183897           0.3782828    \n",
       "6 0.4619962        0.3697282      0.4020378           0.5186869    \n",
       "  fractal_dimension_mean ... fractal_dimension_se radius_worst texture_worst\n",
       "1 0.6055181              ... 0.1830424            0.6207755    0.1415245    \n",
       "2 0.1413227              ... 0.0911101            0.6069015    0.3035714    \n",
       "3 0.2112468              ... 0.1270055            0.5563856    0.3600746    \n",
       "4 1.0000000              ... 0.2872048            0.2483102    0.3859275    \n",
       "5 0.1868155              ... 0.1457996            0.5197439    0.1239339    \n",
       "6 0.5511794              ... 0.1446596            0.2682319    0.3126333    \n",
       "  perimeter_worst area_worst smoothness_worst compactness_worst concavity_worst\n",
       "1 0.6683102       0.45069799 0.6011358        0.6192916         0.5686102      \n",
       "2 0.5398177       0.43521431 0.3475533        0.1545634         0.1929712      \n",
       "3 0.5084417       0.37450845 0.4835898        0.3853751         0.3597444      \n",
       "4 0.2413467       0.09400806 0.9154725        0.8140117         0.5486422      \n",
       "5 0.5069476       0.34157491 0.4373638        0.1724151         0.3194888      \n",
       "6 0.2639076       0.13674794 0.7127386        0.4827837         0.4277157      \n",
       "  concave.points_worst symmetry_worst\n",
       "1 0.9120275            0.5984624     \n",
       "2 0.6391753            0.2335896     \n",
       "3 0.8350515            0.4037059     \n",
       "4 0.8848797            1.0000000     \n",
       "5 0.5584192            0.1575005     \n",
       "6 0.5982818            0.4770353     "
      ]
     },
     "metadata": {},
     "output_type": "display_data"
    }
   ],
   "source": [
    "#create function to normalize data\n",
    "normalize<-function(x){\n",
    "  return ((x-min(x)) / (max(x)-min(x)))\n",
    "}\n",
    "\n",
    "#apply normalization\n",
    "data=as.data.frame(lapply(data1[3:31], normalize))\n",
    "\n",
    "head(data)"
   ]
  },
  {
   "cell_type": "code",
   "execution_count": 5,
   "id": "da905125",
   "metadata": {},
   "outputs": [],
   "source": [
    "#split data\n",
    "wbcd_train=data[1:469,]\n",
    "wbcd_test=data[470:569,]\n",
    "wbcd_train_labels=data1[1:469,2]\n",
    "wbcd_test_labels=data1[470:569,2]"
   ]
  },
  {
   "cell_type": "code",
   "execution_count": 6,
   "id": "b6d9e60e",
   "metadata": {},
   "outputs": [],
   "source": [
    "#knn modelling\n",
    "library(class)\n",
    "wbcd_test_pred=knn(train = wbcd_train,test = wbcd_test,\n",
    "                   cl=wbcd_train_labels,k=21) #21*21=469"
   ]
  },
  {
   "cell_type": "code",
   "execution_count": 7,
   "id": "47f80f08",
   "metadata": {},
   "outputs": [
    {
     "name": "stderr",
     "output_type": "stream",
     "text": [
      "Loading required package: lattice\n",
      "Loading required package: ggplot2\n",
      "Registered S3 methods overwritten by 'ggplot2':\n",
      "  method         from \n",
      "  [.quosures     rlang\n",
      "  c.quosures     rlang\n",
      "  print.quosures rlang\n"
     ]
    },
    {
     "data": {
      "text/plain": [
       "Confusion Matrix and Statistics\n",
       "\n",
       "          Reference\n",
       "Prediction  B  M\n",
       "         B 77  0\n",
       "         M  2 21\n",
       "                                          \n",
       "               Accuracy : 0.98            \n",
       "                 95% CI : (0.9296, 0.9976)\n",
       "    No Information Rate : 0.79            \n",
       "    P-Value [Acc > NIR] : 2.185e-08       \n",
       "                                          \n",
       "                  Kappa : 0.9418          \n",
       "                                          \n",
       " Mcnemar's Test P-Value : 0.4795          \n",
       "                                          \n",
       "            Sensitivity : 0.9747          \n",
       "            Specificity : 1.0000          \n",
       "         Pos Pred Value : 1.0000          \n",
       "         Neg Pred Value : 0.9130          \n",
       "             Prevalence : 0.7900          \n",
       "         Detection Rate : 0.7700          \n",
       "   Detection Prevalence : 0.7700          \n",
       "      Balanced Accuracy : 0.9873          \n",
       "                                          \n",
       "       'Positive' Class : B               \n",
       "                                          "
      ]
     },
     "metadata": {},
     "output_type": "display_data"
    }
   ],
   "source": [
    "#look at confusion matrix\n",
    "library(caret)\n",
    "cm=confusionMatrix(as.factor(wbcd_test_labels),as.factor(wbcd_test_pred))\n",
    "cm"
   ]
  },
  {
   "cell_type": "code",
   "execution_count": 10,
   "id": "2ab37e48",
   "metadata": {},
   "outputs": [
    {
     "name": "stderr",
     "output_type": "stream",
     "text": [
      "Warning message:\n",
      "\"package 'gmodels' was built under R version 3.6.3\""
     ]
    },
    {
     "name": "stdout",
     "output_type": "stream",
     "text": [
      "\n",
      " \n",
      "   Cell Contents\n",
      "|-------------------------|\n",
      "|                       N |\n",
      "| Chi-square contribution |\n",
      "|           N / Row Total |\n",
      "|           N / Col Total |\n",
      "|         N / Table Total |\n",
      "|-------------------------|\n",
      "\n",
      " \n",
      "Total Observations in Table:  100 \n",
      "\n",
      " \n",
      "               | wbcd_test_labels \n",
      "wbcd_test_pred |         B |         M | Row Total | \n",
      "---------------|-----------|-----------|-----------|\n",
      "             B |        77 |         2 |        79 | \n",
      "               |     4.298 |    14.390 |           | \n",
      "               |     0.975 |     0.025 |     0.790 | \n",
      "               |     1.000 |     0.087 |           | \n",
      "               |     0.770 |     0.020 |           | \n",
      "---------------|-----------|-----------|-----------|\n",
      "             M |         0 |        21 |        21 | \n",
      "               |    16.170 |    54.134 |           | \n",
      "               |     0.000 |     1.000 |     0.210 | \n",
      "               |     0.000 |     0.913 |           | \n",
      "               |     0.000 |     0.210 |           | \n",
      "---------------|-----------|-----------|-----------|\n",
      "  Column Total |        77 |        23 |       100 | \n",
      "               |     0.770 |     0.230 |           | \n",
      "---------------|-----------|-----------|-----------|\n",
      "\n",
      " \n",
      "\n",
      " \n",
      "   Cell Contents\n",
      "|-------------------------|\n",
      "|                       N |\n",
      "| Chi-square contribution |\n",
      "|           N / Row Total |\n",
      "|           N / Col Total |\n",
      "|         N / Table Total |\n",
      "|-------------------------|\n",
      "\n",
      " \n",
      "Total Observations in Table:  100 \n",
      "\n",
      " \n",
      "                 | wbcd_test_pred \n",
      "wbcd_test_labels |         B |         M | Row Total | \n",
      "-----------------|-----------|-----------|-----------|\n",
      "               B |        77 |         0 |        77 | \n",
      "                 |     4.298 |    16.170 |           | \n",
      "                 |     1.000 |     0.000 |     0.770 | \n",
      "                 |     0.975 |     0.000 |           | \n",
      "                 |     0.770 |     0.000 |           | \n",
      "-----------------|-----------|-----------|-----------|\n",
      "               M |         2 |        21 |        23 | \n",
      "                 |    14.390 |    54.134 |           | \n",
      "                 |     0.087 |     0.913 |     0.230 | \n",
      "                 |     0.025 |     1.000 |           | \n",
      "                 |     0.020 |     0.210 |           | \n",
      "-----------------|-----------|-----------|-----------|\n",
      "    Column Total |        79 |        21 |       100 | \n",
      "                 |     0.790 |     0.210 |           | \n",
      "-----------------|-----------|-----------|-----------|\n",
      "\n",
      " \n"
     ]
    }
   ],
   "source": [
    "#look at cross table\n",
    "library(gmodels)\n",
    "CrossTable(x=wbcd_test_pred,y=wbcd_test_labels,chisq = FALSE)\n",
    "CrossTable(x=wbcd_test_labels,y=wbcd_test_pred,chisq = FALSE)"
   ]
  },
  {
   "cell_type": "markdown",
   "id": "42dcf570",
   "metadata": {},
   "source": [
    "> there is 2 False Negative prediction and this is dangrous so to improve our model we will scale using different method and try different value of k"
   ]
  },
  {
   "cell_type": "code",
   "execution_count": 11,
   "id": "1fe74279",
   "metadata": {},
   "outputs": [],
   "source": [
    "#scale data\n",
    "data=as.data.frame(scale(data1[3:31]))"
   ]
  },
  {
   "cell_type": "code",
   "execution_count": 12,
   "id": "40717d96",
   "metadata": {},
   "outputs": [],
   "source": [
    "#split data\n",
    "wbcd_train=data[1:469,]\n",
    "wbcd_test=data[470:569,]\n",
    "wbcd_train_labels=data1[1:469,2]\n",
    "wbcd_test_labels=data1[470:569,2]"
   ]
  },
  {
   "cell_type": "code",
   "execution_count": 13,
   "id": "a57fef13",
   "metadata": {},
   "outputs": [],
   "source": [
    "#model data\n",
    "library(class)\n",
    "wbcd_test_pred=knn(train = wbcd_train,test = wbcd_test,\n",
    "                   cl=wbcd_train_labels,k=21)#21*21=469"
   ]
  },
  {
   "cell_type": "code",
   "execution_count": 14,
   "id": "e629c02b",
   "metadata": {},
   "outputs": [
    {
     "name": "stdout",
     "output_type": "stream",
     "text": [
      "\n",
      " \n",
      "   Cell Contents\n",
      "|-------------------------|\n",
      "|                       N |\n",
      "| Chi-square contribution |\n",
      "|           N / Row Total |\n",
      "|           N / Col Total |\n",
      "|         N / Table Total |\n",
      "|-------------------------|\n",
      "\n",
      " \n",
      "Total Observations in Table:  100 \n",
      "\n",
      " \n",
      "                 | wbcd_test_pred \n",
      "wbcd_test_labels |         B |         M | Row Total | \n",
      "-----------------|-----------|-----------|-----------|\n",
      "               B |        77 |         0 |        77 | \n",
      "                 |     4.298 |    16.170 |           | \n",
      "                 |     1.000 |     0.000 |     0.770 | \n",
      "                 |     0.975 |     0.000 |           | \n",
      "                 |     0.770 |     0.000 |           | \n",
      "-----------------|-----------|-----------|-----------|\n",
      "               M |         2 |        21 |        23 | \n",
      "                 |    14.390 |    54.134 |           | \n",
      "                 |     0.087 |     0.913 |     0.230 | \n",
      "                 |     0.025 |     1.000 |           | \n",
      "                 |     0.020 |     0.210 |           | \n",
      "-----------------|-----------|-----------|-----------|\n",
      "    Column Total |        79 |        21 |       100 | \n",
      "                 |     0.790 |     0.210 |           | \n",
      "-----------------|-----------|-----------|-----------|\n",
      "\n",
      " \n"
     ]
    }
   ],
   "source": [
    "library(gmodels)\n",
    "CrossTable(x=wbcd_test_labels,y=wbcd_test_pred,chisq = FALSE)"
   ]
  },
  {
   "cell_type": "markdown",
   "id": "85e16dcb",
   "metadata": {},
   "source": [
    "> after rescaling Z szore standardisation we can see that accuracy is decrease by 3 % so we will not consider this scaling"
   ]
  }
 ],
 "metadata": {
  "kernelspec": {
   "display_name": "R",
   "language": "R",
   "name": "ir"
  },
  "language_info": {
   "codemirror_mode": "r",
   "file_extension": ".r",
   "mimetype": "text/x-r-source",
   "name": "R",
   "pygments_lexer": "r",
   "version": "3.6.1"
  }
 },
 "nbformat": 4,
 "nbformat_minor": 5
}

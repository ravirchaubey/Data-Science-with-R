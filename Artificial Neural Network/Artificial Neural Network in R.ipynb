{
 "cells": [
  {
   "cell_type": "code",
   "execution_count": 1,
   "id": "260fc815",
   "metadata": {},
   "outputs": [
    {
     "data": {
      "text/html": [
       "<table>\n",
       "<thead><tr><th scope=col>cement</th><th scope=col>slag</th><th scope=col>ash</th><th scope=col>water</th><th scope=col>superplastic</th><th scope=col>coarseagg</th><th scope=col>fineagg</th><th scope=col>age</th><th scope=col>strength</th></tr></thead>\n",
       "<tbody>\n",
       "\t<tr><td>540.0 </td><td>  0.0 </td><td>0     </td><td>162   </td><td>2.5   </td><td>1040.0</td><td>676.0 </td><td> 28   </td><td>79.99 </td></tr>\n",
       "\t<tr><td>540.0 </td><td>  0.0 </td><td>0     </td><td>162   </td><td>2.5   </td><td>1055.0</td><td>676.0 </td><td> 28   </td><td>61.89 </td></tr>\n",
       "\t<tr><td>332.5 </td><td>142.5 </td><td>0     </td><td>228   </td><td>0.0   </td><td> 932.0</td><td>594.0 </td><td>270   </td><td>40.27 </td></tr>\n",
       "\t<tr><td>332.5 </td><td>142.5 </td><td>0     </td><td>228   </td><td>0.0   </td><td> 932.0</td><td>594.0 </td><td>365   </td><td>41.05 </td></tr>\n",
       "\t<tr><td>198.6 </td><td>132.4 </td><td>0     </td><td>192   </td><td>0.0   </td><td> 978.4</td><td>825.5 </td><td>360   </td><td>44.30 </td></tr>\n",
       "\t<tr><td>266.0 </td><td>114.0 </td><td>0     </td><td>228   </td><td>0.0   </td><td> 932.0</td><td>670.0 </td><td> 90   </td><td>47.03 </td></tr>\n",
       "</tbody>\n",
       "</table>\n"
      ],
      "text/latex": [
       "\\begin{tabular}{r|lllllllll}\n",
       " cement & slag & ash & water & superplastic & coarseagg & fineagg & age & strength\\\\\n",
       "\\hline\n",
       "\t 540.0  &   0.0  & 0      & 162    & 2.5    & 1040.0 & 676.0  &  28    & 79.99 \\\\\n",
       "\t 540.0  &   0.0  & 0      & 162    & 2.5    & 1055.0 & 676.0  &  28    & 61.89 \\\\\n",
       "\t 332.5  & 142.5  & 0      & 228    & 0.0    &  932.0 & 594.0  & 270    & 40.27 \\\\\n",
       "\t 332.5  & 142.5  & 0      & 228    & 0.0    &  932.0 & 594.0  & 365    & 41.05 \\\\\n",
       "\t 198.6  & 132.4  & 0      & 192    & 0.0    &  978.4 & 825.5  & 360    & 44.30 \\\\\n",
       "\t 266.0  & 114.0  & 0      & 228    & 0.0    &  932.0 & 670.0  &  90    & 47.03 \\\\\n",
       "\\end{tabular}\n"
      ],
      "text/markdown": [
       "\n",
       "| cement | slag | ash | water | superplastic | coarseagg | fineagg | age | strength |\n",
       "|---|---|---|---|---|---|---|---|---|\n",
       "| 540.0  |   0.0  | 0      | 162    | 2.5    | 1040.0 | 676.0  |  28    | 79.99  |\n",
       "| 540.0  |   0.0  | 0      | 162    | 2.5    | 1055.0 | 676.0  |  28    | 61.89  |\n",
       "| 332.5  | 142.5  | 0      | 228    | 0.0    |  932.0 | 594.0  | 270    | 40.27  |\n",
       "| 332.5  | 142.5  | 0      | 228    | 0.0    |  932.0 | 594.0  | 365    | 41.05  |\n",
       "| 198.6  | 132.4  | 0      | 192    | 0.0    |  978.4 | 825.5  | 360    | 44.30  |\n",
       "| 266.0  | 114.0  | 0      | 228    | 0.0    |  932.0 | 670.0  |  90    | 47.03  |\n",
       "\n"
      ],
      "text/plain": [
       "  cement slag  ash water superplastic coarseagg fineagg age strength\n",
       "1 540.0    0.0 0   162   2.5          1040.0    676.0    28 79.99   \n",
       "2 540.0    0.0 0   162   2.5          1055.0    676.0    28 61.89   \n",
       "3 332.5  142.5 0   228   0.0           932.0    594.0   270 40.27   \n",
       "4 332.5  142.5 0   228   0.0           932.0    594.0   365 41.05   \n",
       "5 198.6  132.4 0   192   0.0           978.4    825.5   360 44.30   \n",
       "6 266.0  114.0 0   228   0.0           932.0    670.0    90 47.03   "
      ]
     },
     "metadata": {},
     "output_type": "display_data"
    }
   ],
   "source": [
    "#read data\n",
    "concrete=read.csv(\"concrete.csv\")\n",
    "head(concrete)"
   ]
  },
  {
   "cell_type": "code",
   "execution_count": 2,
   "id": "c364197b",
   "metadata": {},
   "outputs": [],
   "source": [
    "#normalize data\n",
    "normalize=function(x){\n",
    "  return((x-min(x))/(max(x)-min(x)))\n",
    "}\n",
    "\n",
    "concrete_norm=as.data.frame(lapply(concrete, normalize))"
   ]
  },
  {
   "cell_type": "code",
   "execution_count": 3,
   "id": "0c9e85ac",
   "metadata": {},
   "outputs": [],
   "source": [
    "#split data\n",
    "set.seed(12345)\n",
    "concrete_train=concrete_norm[1:773,]\n",
    "concrete_test=concrete_norm[773:1030,]"
   ]
  },
  {
   "cell_type": "code",
   "execution_count": 4,
   "id": "441c3880",
   "metadata": {},
   "outputs": [
    {
     "name": "stderr",
     "output_type": "stream",
     "text": [
      "Warning message:\n",
      "\"package 'neuralnet' was built under R version 3.6.3\""
     ]
    }
   ],
   "source": [
    "#install package\n",
    "#install.packages(\"neuralnet\")\n",
    "library(neuralnet)"
   ]
  },
  {
   "cell_type": "code",
   "execution_count": 5,
   "id": "72ceee75",
   "metadata": {},
   "outputs": [],
   "source": [
    "#model data\n",
    "model=neuralnet(strength~.,concrete_train,hidden = c(2))"
   ]
  },
  {
   "cell_type": "code",
   "execution_count": 6,
   "id": "4205a877",
   "metadata": {},
   "outputs": [],
   "source": [
    "plot(model)"
   ]
  },
  {
   "cell_type": "code",
   "execution_count": 7,
   "id": "f9b43201",
   "metadata": {},
   "outputs": [],
   "source": [
    "model_result=compute(model,concrete_test[1:8])"
   ]
  },
  {
   "cell_type": "code",
   "execution_count": 8,
   "id": "a96fb5d6",
   "metadata": {},
   "outputs": [
    {
     "data": {
      "text/html": [
       "<table>\n",
       "<tbody>\n",
       "\t<tr><td>0.7609266</td></tr>\n",
       "</tbody>\n",
       "</table>\n"
      ],
      "text/latex": [
       "\\begin{tabular}{l}\n",
       "\t 0.7609266\\\\\n",
       "\\end{tabular}\n"
      ],
      "text/markdown": [
       "\n",
       "| 0.7609266 |\n",
       "\n"
      ],
      "text/plain": [
       "     [,1]     \n",
       "[1,] 0.7609266"
      ]
     },
     "metadata": {},
     "output_type": "display_data"
    }
   ],
   "source": [
    "#make prediction\n",
    "pred=model_result$net.result\n",
    "cor(pred,concrete_test$strength)"
   ]
  }
 ],
 "metadata": {
  "kernelspec": {
   "display_name": "R",
   "language": "R",
   "name": "ir"
  },
  "language_info": {
   "codemirror_mode": "r",
   "file_extension": ".r",
   "mimetype": "text/x-r-source",
   "name": "R",
   "pygments_lexer": "r",
   "version": "3.6.1"
  }
 },
 "nbformat": 4,
 "nbformat_minor": 5
}

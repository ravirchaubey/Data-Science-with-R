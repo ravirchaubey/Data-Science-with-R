{
 "cells": [
  {
   "cell_type": "code",
   "execution_count": 1,
   "id": "a066530f",
   "metadata": {},
   "outputs": [],
   "source": [
    "# read data\n",
    "library(readxl)\n",
    "data=read_excel(\"hospitalcosts.xlsx\")"
   ]
  },
  {
   "cell_type": "markdown",
   "id": "de63b375",
   "metadata": {},
   "source": [
    "### Basic EDA"
   ]
  },
  {
   "cell_type": "code",
   "execution_count": 2,
   "id": "b262f8d8",
   "metadata": {},
   "outputs": [
    {
     "data": {
      "text/html": [
       "<table>\n",
       "<thead><tr><th scope=col>AGE</th><th scope=col>FEMALE</th><th scope=col>LOS</th><th scope=col>RACE</th><th scope=col>TOTCHG</th><th scope=col>APRDRG</th></tr></thead>\n",
       "<tbody>\n",
       "\t<tr><td>17   </td><td>1    </td><td>2    </td><td>1    </td><td> 2660</td><td>560  </td></tr>\n",
       "\t<tr><td>17   </td><td>0    </td><td>2    </td><td>1    </td><td> 1689</td><td>753  </td></tr>\n",
       "\t<tr><td>17   </td><td>1    </td><td>7    </td><td>1    </td><td>20060</td><td>930  </td></tr>\n",
       "\t<tr><td>17   </td><td>1    </td><td>1    </td><td>1    </td><td>  736</td><td>758  </td></tr>\n",
       "\t<tr><td>17   </td><td>1    </td><td>1    </td><td>1    </td><td> 1194</td><td>754  </td></tr>\n",
       "\t<tr><td>17   </td><td>0    </td><td>0    </td><td>1    </td><td> 3305</td><td>347  </td></tr>\n",
       "</tbody>\n",
       "</table>\n"
      ],
      "text/latex": [
       "\\begin{tabular}{r|llllll}\n",
       " AGE & FEMALE & LOS & RACE & TOTCHG & APRDRG\\\\\n",
       "\\hline\n",
       "\t 17    & 1     & 2     & 1     &  2660 & 560  \\\\\n",
       "\t 17    & 0     & 2     & 1     &  1689 & 753  \\\\\n",
       "\t 17    & 1     & 7     & 1     & 20060 & 930  \\\\\n",
       "\t 17    & 1     & 1     & 1     &   736 & 758  \\\\\n",
       "\t 17    & 1     & 1     & 1     &  1194 & 754  \\\\\n",
       "\t 17    & 0     & 0     & 1     &  3305 & 347  \\\\\n",
       "\\end{tabular}\n"
      ],
      "text/markdown": [
       "\n",
       "| AGE | FEMALE | LOS | RACE | TOTCHG | APRDRG |\n",
       "|---|---|---|---|---|---|\n",
       "| 17    | 1     | 2     | 1     |  2660 | 560   |\n",
       "| 17    | 0     | 2     | 1     |  1689 | 753   |\n",
       "| 17    | 1     | 7     | 1     | 20060 | 930   |\n",
       "| 17    | 1     | 1     | 1     |   736 | 758   |\n",
       "| 17    | 1     | 1     | 1     |  1194 | 754   |\n",
       "| 17    | 0     | 0     | 1     |  3305 | 347   |\n",
       "\n"
      ],
      "text/plain": [
       "  AGE FEMALE LOS RACE TOTCHG APRDRG\n",
       "1 17  1      2   1     2660  560   \n",
       "2 17  0      2   1     1689  753   \n",
       "3 17  1      7   1    20060  930   \n",
       "4 17  1      1   1      736  758   \n",
       "5 17  1      1   1     1194  754   \n",
       "6 17  0      0   1     3305  347   "
      ]
     },
     "metadata": {},
     "output_type": "display_data"
    }
   ],
   "source": [
    "#view head of data\n",
    "head(data)"
   ]
  },
  {
   "cell_type": "code",
   "execution_count": 3,
   "id": "af7179b7",
   "metadata": {},
   "outputs": [
    {
     "data": {
      "text/html": [
       "<table>\n",
       "<thead><tr><th scope=col>AGE</th><th scope=col>FEMALE</th><th scope=col>LOS</th><th scope=col>RACE</th><th scope=col>TOTCHG</th><th scope=col>APRDRG</th></tr></thead>\n",
       "<tbody>\n",
       "\t<tr><td>0   </td><td>1   </td><td>3   </td><td>1   </td><td>1886</td><td>640 </td></tr>\n",
       "\t<tr><td>0   </td><td>1   </td><td>6   </td><td>1   </td><td>5881</td><td>636 </td></tr>\n",
       "\t<tr><td>0   </td><td>1   </td><td>2   </td><td>1   </td><td>1171</td><td>640 </td></tr>\n",
       "\t<tr><td>0   </td><td>1   </td><td>2   </td><td>1   </td><td>1171</td><td>640 </td></tr>\n",
       "\t<tr><td>0   </td><td>1   </td><td>2   </td><td>1   </td><td>1086</td><td>640 </td></tr>\n",
       "\t<tr><td>0   </td><td>0   </td><td>4   </td><td>1   </td><td>4931</td><td>640 </td></tr>\n",
       "</tbody>\n",
       "</table>\n"
      ],
      "text/latex": [
       "\\begin{tabular}{r|llllll}\n",
       " AGE & FEMALE & LOS & RACE & TOTCHG & APRDRG\\\\\n",
       "\\hline\n",
       "\t 0    & 1    & 3    & 1    & 1886 & 640 \\\\\n",
       "\t 0    & 1    & 6    & 1    & 5881 & 636 \\\\\n",
       "\t 0    & 1    & 2    & 1    & 1171 & 640 \\\\\n",
       "\t 0    & 1    & 2    & 1    & 1171 & 640 \\\\\n",
       "\t 0    & 1    & 2    & 1    & 1086 & 640 \\\\\n",
       "\t 0    & 0    & 4    & 1    & 4931 & 640 \\\\\n",
       "\\end{tabular}\n"
      ],
      "text/markdown": [
       "\n",
       "| AGE | FEMALE | LOS | RACE | TOTCHG | APRDRG |\n",
       "|---|---|---|---|---|---|\n",
       "| 0    | 1    | 3    | 1    | 1886 | 640  |\n",
       "| 0    | 1    | 6    | 1    | 5881 | 636  |\n",
       "| 0    | 1    | 2    | 1    | 1171 | 640  |\n",
       "| 0    | 1    | 2    | 1    | 1171 | 640  |\n",
       "| 0    | 1    | 2    | 1    | 1086 | 640  |\n",
       "| 0    | 0    | 4    | 1    | 4931 | 640  |\n",
       "\n"
      ],
      "text/plain": [
       "  AGE FEMALE LOS RACE TOTCHG APRDRG\n",
       "1 0   1      3   1    1886   640   \n",
       "2 0   1      6   1    5881   636   \n",
       "3 0   1      2   1    1171   640   \n",
       "4 0   1      2   1    1171   640   \n",
       "5 0   1      2   1    1086   640   \n",
       "6 0   0      4   1    4931   640   "
      ]
     },
     "metadata": {},
     "output_type": "display_data"
    }
   ],
   "source": [
    "#view tail of data\n",
    "tail(data)"
   ]
  },
  {
   "cell_type": "code",
   "execution_count": 4,
   "id": "a2f726ee",
   "metadata": {},
   "outputs": [
    {
     "name": "stdout",
     "output_type": "stream",
     "text": [
      "[1] 500\n",
      "[1] 6\n",
      "[1] 500   6\n"
     ]
    }
   ],
   "source": [
    "#print number of row in data\n",
    "obs = nrow(data)\n",
    "print(obs)\n",
    "\n",
    "#print number of cols in data\n",
    "nCols = ncol(data)\n",
    "print(nCols)\n",
    "\n",
    "#print dimension of data\n",
    "dims = dim(data)\n",
    "print(dims)"
   ]
  },
  {
   "cell_type": "code",
   "execution_count": 5,
   "id": "6e2e0408",
   "metadata": {},
   "outputs": [
    {
     "data": {
      "text/html": [
       "<ol class=list-inline>\n",
       "\t<li>'AGE'</li>\n",
       "\t<li>'FEMALE'</li>\n",
       "\t<li>'LOS'</li>\n",
       "\t<li>'RACE'</li>\n",
       "\t<li>'TOTCHG'</li>\n",
       "\t<li>'APRDRG'</li>\n",
       "</ol>\n"
      ],
      "text/latex": [
       "\\begin{enumerate*}\n",
       "\\item 'AGE'\n",
       "\\item 'FEMALE'\n",
       "\\item 'LOS'\n",
       "\\item 'RACE'\n",
       "\\item 'TOTCHG'\n",
       "\\item 'APRDRG'\n",
       "\\end{enumerate*}\n"
      ],
      "text/markdown": [
       "1. 'AGE'\n",
       "2. 'FEMALE'\n",
       "3. 'LOS'\n",
       "4. 'RACE'\n",
       "5. 'TOTCHG'\n",
       "6. 'APRDRG'\n",
       "\n",
       "\n"
      ],
      "text/plain": [
       "[1] \"AGE\"    \"FEMALE\" \"LOS\"    \"RACE\"   \"TOTCHG\" \"APRDRG\""
      ]
     },
     "metadata": {},
     "output_type": "display_data"
    }
   ],
   "source": [
    "#name of features\n",
    "names(data)"
   ]
  },
  {
   "cell_type": "code",
   "execution_count": 6,
   "id": "1c516c1a",
   "metadata": {},
   "outputs": [
    {
     "name": "stdout",
     "output_type": "stream",
     "text": [
      "Classes 'tbl_df', 'tbl' and 'data.frame':\t500 obs. of  6 variables:\n",
      " $ AGE   : num  17 17 17 17 17 17 17 16 16 17 ...\n",
      " $ FEMALE: num  1 0 1 1 1 0 1 1 1 1 ...\n",
      " $ LOS   : num  2 2 7 1 1 0 4 2 1 2 ...\n",
      " $ RACE  : num  1 1 1 1 1 1 1 1 1 1 ...\n",
      " $ TOTCHG: num  2660 1689 20060 736 1194 ...\n",
      " $ APRDRG: num  560 753 930 758 754 347 754 754 753 758 ...\n"
     ]
    }
   ],
   "source": [
    "#view structure of data\n",
    "str(data)"
   ]
  },
  {
   "cell_type": "code",
   "execution_count": 7,
   "id": "5b594957",
   "metadata": {},
   "outputs": [
    {
     "data": {
      "text/html": [
       "<ol class=list-inline>\n",
       "\t<li>'tbl_df'</li>\n",
       "\t<li>'tbl'</li>\n",
       "\t<li>'data.frame'</li>\n",
       "</ol>\n"
      ],
      "text/latex": [
       "\\begin{enumerate*}\n",
       "\\item 'tbl\\_df'\n",
       "\\item 'tbl'\n",
       "\\item 'data.frame'\n",
       "\\end{enumerate*}\n"
      ],
      "text/markdown": [
       "1. 'tbl_df'\n",
       "2. 'tbl'\n",
       "3. 'data.frame'\n",
       "\n",
       "\n"
      ],
      "text/plain": [
       "[1] \"tbl_df\"     \"tbl\"        \"data.frame\""
      ]
     },
     "metadata": {},
     "output_type": "display_data"
    }
   ],
   "source": [
    "#view class of data\n",
    "class(data)"
   ]
  },
  {
   "cell_type": "code",
   "execution_count": 8,
   "id": "5cb57d22",
   "metadata": {},
   "outputs": [
    {
     "data": {
      "text/plain": [
       "   Min. 1st Qu.  Median    Mean 3rd Qu.    Max. \n",
       "  0.000   0.000   0.000   5.086  13.000  17.000 "
      ]
     },
     "metadata": {},
     "output_type": "display_data"
    }
   ],
   "source": [
    "# Exploring Age Variable:Age of Patients\n",
    "summary(data$AGE)"
   ]
  },
  {
   "cell_type": "code",
   "execution_count": 9,
   "id": "a2eb4dbf",
   "metadata": {},
   "outputs": [
    {
     "data": {
      "text/html": [
       "48.2951943887776"
      ],
      "text/latex": [
       "48.2951943887776"
      ],
      "text/markdown": [
       "48.2951943887776"
      ],
      "text/plain": [
       "[1] 48.29519"
      ]
     },
     "metadata": {},
     "output_type": "display_data"
    }
   ],
   "source": [
    "var(data$AGE)"
   ]
  },
  {
   "cell_type": "code",
   "execution_count": 10,
   "id": "7dd587f6",
   "metadata": {},
   "outputs": [
    {
     "data": {
      "text/html": [
       "6.94947439658407"
      ],
      "text/latex": [
       "6.94947439658407"
      ],
      "text/markdown": [
       "6.94947439658407"
      ],
      "text/plain": [
       "[1] 6.949474"
      ]
     },
     "metadata": {},
     "output_type": "display_data"
    }
   ],
   "source": [
    "sd(data$AGE)"
   ]
  },
  {
   "cell_type": "markdown",
   "id": "c64686ca",
   "metadata": {},
   "source": [
    "### Data Modelling"
   ]
  },
  {
   "cell_type": "code",
   "execution_count": 11,
   "id": "1b787068",
   "metadata": {},
   "outputs": [
    {
     "name": "stderr",
     "output_type": "stream",
     "text": [
      "Warning message:\n",
      "\"package 'caTools' was built under R version 3.6.3\""
     ]
    }
   ],
   "source": [
    "#split data in train and test set\n",
    "library(caTools)\n",
    "set.seed(1)\n",
    "sample=sample.split(data$TOTCHG,SplitRatio = 0.80)\n",
    "train_data=subset(data,sample==TRUE)\n",
    "test_data=subset(data,sample==FALSE)"
   ]
  },
  {
   "cell_type": "code",
   "execution_count": 12,
   "id": "c5ded77d",
   "metadata": {},
   "outputs": [
    {
     "data": {
      "text/plain": [
       "\n",
       "Call:\n",
       "lm(formula = TOTCHG ~ ., data = train_data)\n",
       "\n",
       "Residuals:\n",
       "   Min     1Q Median     3Q    Max \n",
       " -6027   -853   -159    146  42906 \n",
       "\n",
       "Coefficients:\n",
       "             Estimate Std. Error t value Pr(>|t|)    \n",
       "(Intercept) 5123.8780   618.0184   8.291 1.80e-15 ***\n",
       "AGE          150.1851    21.2746   7.059 7.62e-12 ***\n",
       "FEMALE      -343.0310   300.4870  -1.142    0.254    \n",
       "LOS          789.1367    49.0452  16.090  < 2e-16 ***\n",
       "RACE        -252.1402   273.3765  -0.922    0.357    \n",
       "APRDRG        -7.8197     0.8176  -9.565  < 2e-16 ***\n",
       "---\n",
       "Signif. codes:  0 '***' 0.001 '**' 0.01 '*' 0.05 '.' 0.1 ' ' 1\n",
       "\n",
       "Residual standard error: 2841 on 393 degrees of freedom\n",
       "  (1 observation deleted due to missingness)\n",
       "Multiple R-squared:  0.4897,\tAdjusted R-squared:  0.4832 \n",
       "F-statistic: 75.44 on 5 and 393 DF,  p-value: < 2.2e-16\n"
      ]
     },
     "metadata": {},
     "output_type": "display_data"
    }
   ],
   "source": [
    "#fit linear regression model\n",
    "model=lm(TOTCHG~.,data = train_data)\n",
    "summary(model)"
   ]
  },
  {
   "cell_type": "code",
   "execution_count": 13,
   "id": "80aad1c3",
   "metadata": {},
   "outputs": [
    {
     "data": {
      "text/plain": [
       "\n",
       "Call:\n",
       "lm(formula = TOTCHG ~ AGE + LOS + APRDRG, data = train_data)\n",
       "\n",
       "Residuals:\n",
       "   Min     1Q Median     3Q    Max \n",
       " -6201   -873   -139    163  42864 \n",
       "\n",
       "Coefficients:\n",
       "             Estimate Std. Error t value Pr(>|t|)    \n",
       "(Intercept) 4801.1658   520.7266   9.220  < 2e-16 ***\n",
       "AGE          144.7810    20.7931   6.963 1.39e-11 ***\n",
       "LOS          789.4263    48.9385  16.131  < 2e-16 ***\n",
       "APRDRG        -7.9746     0.7942 -10.042  < 2e-16 ***\n",
       "---\n",
       "Signif. codes:  0 '***' 0.001 '**' 0.01 '*' 0.05 '.' 0.1 ' ' 1\n",
       "\n",
       "Residual standard error: 2838 on 396 degrees of freedom\n",
       "Multiple R-squared:  0.4873,\tAdjusted R-squared:  0.4834 \n",
       "F-statistic: 125.4 on 3 and 396 DF,  p-value: < 2.2e-16\n"
      ]
     },
     "metadata": {},
     "output_type": "display_data"
    }
   ],
   "source": [
    "#refit with only significant vars\n",
    "newModel=lm(TOTCHG~AGE+LOS+APRDRG,data = train_data)\n",
    "summary(newModel)"
   ]
  },
  {
   "cell_type": "code",
   "execution_count": 14,
   "id": "47ed6511",
   "metadata": {},
   "outputs": [],
   "source": [
    "#make prediction\n",
    "TOTCHG_pred=predict(newModel,newdata = test_data)\n",
    "TOTCHG_pred1=data.frame(TOTCHG_pred)"
   ]
  },
  {
   "cell_type": "code",
   "execution_count": 15,
   "id": "4a47c470",
   "metadata": {},
   "outputs": [
    {
     "data": {
      "text/html": [
       "<table>\n",
       "<thead><tr><th scope=col>TOTCHG_pred</th></tr></thead>\n",
       "<tbody>\n",
       "\t<tr><td>2007.1552</td></tr>\n",
       "\t<tr><td>4495.2721</td></tr>\n",
       "\t<tr><td>4407.3322</td></tr>\n",
       "\t<tr><td>3941.0909</td></tr>\n",
       "\t<tr><td> 997.4049</td></tr>\n",
       "\t<tr><td> 388.9155</td></tr>\n",
       "</tbody>\n",
       "</table>\n"
      ],
      "text/latex": [
       "\\begin{tabular}{r|l}\n",
       " TOTCHG\\_pred\\\\\n",
       "\\hline\n",
       "\t 2007.1552\\\\\n",
       "\t 4495.2721\\\\\n",
       "\t 4407.3322\\\\\n",
       "\t 3941.0909\\\\\n",
       "\t  997.4049\\\\\n",
       "\t  388.9155\\\\\n",
       "\\end{tabular}\n"
      ],
      "text/markdown": [
       "\n",
       "| TOTCHG_pred |\n",
       "|---|\n",
       "| 2007.1552 |\n",
       "| 4495.2721 |\n",
       "| 4407.3322 |\n",
       "| 3941.0909 |\n",
       "|  997.4049 |\n",
       "|  388.9155 |\n",
       "\n"
      ],
      "text/plain": [
       "  TOTCHG_pred\n",
       "1 2007.1552  \n",
       "2 4495.2721  \n",
       "3 4407.3322  \n",
       "4 3941.0909  \n",
       "5  997.4049  \n",
       "6  388.9155  "
      ]
     },
     "metadata": {},
     "output_type": "display_data"
    }
   ],
   "source": [
    "head(TOTCHG_pred1)"
   ]
  },
  {
   "cell_type": "code",
   "execution_count": 16,
   "id": "d72c90dc",
   "metadata": {},
   "outputs": [],
   "source": [
    "#combine source data and write to local with preds\n",
    "final_data=cbind(test_data,TOTCHG_pred1)\n",
    "write.csv(final_data,\"final_data.csv\")"
   ]
  }
 ],
 "metadata": {
  "kernelspec": {
   "display_name": "R",
   "language": "R",
   "name": "ir"
  },
  "language_info": {
   "codemirror_mode": "r",
   "file_extension": ".r",
   "mimetype": "text/x-r-source",
   "name": "R",
   "pygments_lexer": "r",
   "version": "3.6.1"
  }
 },
 "nbformat": 4,
 "nbformat_minor": 5
}

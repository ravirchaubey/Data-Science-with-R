{
 "cells": [
  {
   "cell_type": "code",
   "execution_count": null,
   "id": "bf7c0dfd",
   "metadata": {},
   "outputs": [],
   "source": [
    "#read data\n",
    "library(arules)\n",
    "data=read.transactions(\"groceries.csv\",sep=\",\")\n",
    "summary(data)"
   ]
  },
  {
   "cell_type": "code",
   "execution_count": null,
   "id": "e77e186d",
   "metadata": {},
   "outputs": [],
   "source": [
    "#inspect data\n",
    "inspect(data[1:2])"
   ]
  },
  {
   "cell_type": "code",
   "execution_count": null,
   "id": "1a123e3c",
   "metadata": {},
   "outputs": [],
   "source": [
    "#model data\n",
    "library(arules)\n",
    "rules=apriori(data,\n",
    "              parameter = list(support=0.001,\n",
    "                               confidence=0.8,\n",
    "                               minlen=2))\n",
    "rules"
   ]
  },
  {
   "cell_type": "code",
   "execution_count": null,
   "id": "22b58b18",
   "metadata": {},
   "outputs": [],
   "source": [
    "#look at associations\n",
    "inspect(head(sort(rules,by=\"lift\")[1:3]))"
   ]
  }
 ],
 "metadata": {
  "kernelspec": {
   "display_name": "R",
   "language": "R",
   "name": "ir"
  },
  "language_info": {
   "codemirror_mode": "r",
   "file_extension": ".r",
   "mimetype": "text/x-r-source",
   "name": "R",
   "pygments_lexer": "r",
   "version": "3.6.1"
  }
 },
 "nbformat": 4,
 "nbformat_minor": 5
}

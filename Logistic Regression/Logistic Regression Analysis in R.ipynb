{
 "cells": [
  {
   "cell_type": "code",
   "execution_count": 1,
   "id": "41d024fe",
   "metadata": {},
   "outputs": [],
   "source": [
    "# read data\n",
    "data=read.csv(\"Remission.csv\")"
   ]
  },
  {
   "cell_type": "code",
   "execution_count": 2,
   "id": "159846f2",
   "metadata": {},
   "outputs": [
    {
     "data": {
      "text/html": [
       "<table>\n",
       "<thead><tr><th scope=col>Remiss</th><th scope=col>Cell</th><th scope=col>Smear</th><th scope=col>Infil</th><th scope=col>Li</th><th scope=col>Blast</th><th scope=col>Temp</th></tr></thead>\n",
       "<tbody>\n",
       "\t<tr><td>1       </td><td>-8      </td><td>-83     </td><td>-66     </td><td> 1.9    </td><td>   1.100</td><td>-996    </td></tr>\n",
       "\t<tr><td>1       </td><td>-9      </td><td>-36     </td><td>-32     </td><td> 1.4    </td><td> -74.000</td><td>-992    </td></tr>\n",
       "\t<tr><td>0       </td><td>-8      </td><td>-88     </td><td> -7     </td><td>-8.0    </td><td>-176.000</td><td>-982    </td></tr>\n",
       "\t<tr><td>0       </td><td> 1      </td><td>-87     </td><td>-87     </td><td>-7.0    </td><td>   1.053</td><td>-986    </td></tr>\n",
       "\t<tr><td>1       </td><td>-9      </td><td>-75     </td><td>-68     </td><td> 1.3    </td><td>-519.000</td><td> -98    </td></tr>\n",
       "\t<tr><td>0       </td><td> 1      </td><td>-65     </td><td>-65     </td><td>-6.0    </td><td>-519.000</td><td>-982    </td></tr>\n",
       "</tbody>\n",
       "</table>\n"
      ],
      "text/latex": [
       "\\begin{tabular}{r|lllllll}\n",
       " Remiss & Cell & Smear & Infil & Li & Blast & Temp\\\\\n",
       "\\hline\n",
       "\t 1        & -8       & -83      & -66      &  1.9     &    1.100 & -996    \\\\\n",
       "\t 1        & -9       & -36      & -32      &  1.4     &  -74.000 & -992    \\\\\n",
       "\t 0        & -8       & -88      &  -7      & -8.0     & -176.000 & -982    \\\\\n",
       "\t 0        &  1       & -87      & -87      & -7.0     &    1.053 & -986    \\\\\n",
       "\t 1        & -9       & -75      & -68      &  1.3     & -519.000 &  -98    \\\\\n",
       "\t 0        &  1       & -65      & -65      & -6.0     & -519.000 & -982    \\\\\n",
       "\\end{tabular}\n"
      ],
      "text/markdown": [
       "\n",
       "| Remiss | Cell | Smear | Infil | Li | Blast | Temp |\n",
       "|---|---|---|---|---|---|---|\n",
       "| 1        | -8       | -83      | -66      |  1.9     |    1.100 | -996     |\n",
       "| 1        | -9       | -36      | -32      |  1.4     |  -74.000 | -992     |\n",
       "| 0        | -8       | -88      |  -7      | -8.0     | -176.000 | -982     |\n",
       "| 0        |  1       | -87      | -87      | -7.0     |    1.053 | -986     |\n",
       "| 1        | -9       | -75      | -68      |  1.3     | -519.000 |  -98     |\n",
       "| 0        |  1       | -65      | -65      | -6.0     | -519.000 | -982     |\n",
       "\n"
      ],
      "text/plain": [
       "  Remiss Cell Smear Infil Li   Blast    Temp\n",
       "1 1      -8   -83   -66    1.9    1.100 -996\n",
       "2 1      -9   -36   -32    1.4  -74.000 -992\n",
       "3 0      -8   -88    -7   -8.0 -176.000 -982\n",
       "4 0       1   -87   -87   -7.0    1.053 -986\n",
       "5 1      -9   -75   -68    1.3 -519.000  -98\n",
       "6 0       1   -65   -65   -6.0 -519.000 -982"
      ]
     },
     "metadata": {},
     "output_type": "display_data"
    }
   ],
   "source": [
    "head(data)"
   ]
  },
  {
   "cell_type": "code",
   "execution_count": 3,
   "id": "4634c76d",
   "metadata": {},
   "outputs": [
    {
     "data": {
      "text/html": [
       "<table>\n",
       "<thead><tr><th></th><th scope=col>Remiss</th><th scope=col>Cell</th><th scope=col>Smear</th><th scope=col>Infil</th><th scope=col>Li</th><th scope=col>Blast</th><th scope=col>Temp</th></tr></thead>\n",
       "<tbody>\n",
       "\t<tr><th scope=row>22</th><td>0       </td><td> -9     </td><td>-93     </td><td>-84     </td><td>-6.0    </td><td>   1.591</td><td>   1.020</td></tr>\n",
       "\t<tr><th scope=row>23</th><td>1       </td><td>  1     </td><td>-58     </td><td>-58     </td><td> 1.0    </td><td>-531.000</td><td>   1.002</td></tr>\n",
       "\t<tr><th scope=row>24</th><td>0       </td><td>-95     </td><td>-32     </td><td>-32     </td><td> 1.6    </td><td>-886.000</td><td>-988.000</td></tr>\n",
       "\t<tr><th scope=row>25</th><td>1       </td><td>  1     </td><td> -6     </td><td> -6     </td><td> 1.7    </td><td>-964.000</td><td> -99.000</td></tr>\n",
       "\t<tr><th scope=row>26</th><td>1       </td><td>  1     </td><td>-69     </td><td>-69     </td><td>-9.0    </td><td>-398.000</td><td>-986.000</td></tr>\n",
       "\t<tr><th scope=row>27</th><td>0       </td><td>  1     </td><td>-73     </td><td>-73     </td><td>-7.0    </td><td>-398.000</td><td>-986.000</td></tr>\n",
       "</tbody>\n",
       "</table>\n"
      ],
      "text/latex": [
       "\\begin{tabular}{r|lllllll}\n",
       "  & Remiss & Cell & Smear & Infil & Li & Blast & Temp\\\\\n",
       "\\hline\n",
       "\t22 & 0        &  -9      & -93      & -84      & -6.0     &    1.591 &    1.020\\\\\n",
       "\t23 & 1        &   1      & -58      & -58      &  1.0     & -531.000 &    1.002\\\\\n",
       "\t24 & 0        & -95      & -32      & -32      &  1.6     & -886.000 & -988.000\\\\\n",
       "\t25 & 1        &   1      &  -6      &  -6      &  1.7     & -964.000 &  -99.000\\\\\n",
       "\t26 & 1        &   1      & -69      & -69      & -9.0     & -398.000 & -986.000\\\\\n",
       "\t27 & 0        &   1      & -73      & -73      & -7.0     & -398.000 & -986.000\\\\\n",
       "\\end{tabular}\n"
      ],
      "text/markdown": [
       "\n",
       "| <!--/--> | Remiss | Cell | Smear | Infil | Li | Blast | Temp |\n",
       "|---|---|---|---|---|---|---|---|\n",
       "| 22 | 0        |  -9      | -93      | -84      | -6.0     |    1.591 |    1.020 |\n",
       "| 23 | 1        |   1      | -58      | -58      |  1.0     | -531.000 |    1.002 |\n",
       "| 24 | 0        | -95      | -32      | -32      |  1.6     | -886.000 | -988.000 |\n",
       "| 25 | 1        |   1      |  -6      |  -6      |  1.7     | -964.000 |  -99.000 |\n",
       "| 26 | 1        |   1      | -69      | -69      | -9.0     | -398.000 | -986.000 |\n",
       "| 27 | 0        |   1      | -73      | -73      | -7.0     | -398.000 | -986.000 |\n",
       "\n"
      ],
      "text/plain": [
       "   Remiss Cell Smear Infil Li   Blast    Temp    \n",
       "22 0       -9  -93   -84   -6.0    1.591    1.020\n",
       "23 1        1  -58   -58    1.0 -531.000    1.002\n",
       "24 0      -95  -32   -32    1.6 -886.000 -988.000\n",
       "25 1        1   -6    -6    1.7 -964.000  -99.000\n",
       "26 1        1  -69   -69   -9.0 -398.000 -986.000\n",
       "27 0        1  -73   -73   -7.0 -398.000 -986.000"
      ]
     },
     "metadata": {},
     "output_type": "display_data"
    }
   ],
   "source": [
    "tail(data)"
   ]
  },
  {
   "cell_type": "code",
   "execution_count": 4,
   "id": "4caa68d4",
   "metadata": {},
   "outputs": [],
   "source": [
    "#split data\n",
    "\n",
    "set.seed(200)\n",
    "train_obs <- floor (0.8*nrow (data))\n",
    "train_ind<-sample(seq_len(nrow(data)),size=train_obs)\n",
    "test = -train_ind\n",
    "train_data<-data[train_ind,]\n",
    "test_data<-data[-train_ind,]\n",
    "testing_high <- data$Remiss[test]"
   ]
  },
  {
   "cell_type": "code",
   "execution_count": 5,
   "id": "31584433",
   "metadata": {},
   "outputs": [
    {
     "data": {
      "text/plain": [
       "\n",
       "Call:\n",
       "glm(formula = Remiss ~ ., family = binomial(), data = train_data)\n",
       "\n",
       "Deviance Residuals: \n",
       "     Min        1Q    Median        3Q       Max  \n",
       "-1.28718  -0.59603  -0.06141   0.50818   2.02014  \n",
       "\n",
       "Coefficients:\n",
       "             Estimate Std. Error z value Pr(>|z|)\n",
       "(Intercept) -7.581259   6.814658  -1.112    0.266\n",
       "Cell         0.034501   0.024899   1.386    0.166\n",
       "Smear        0.017240   0.153690   0.112    0.911\n",
       "Infil       -0.114398   0.139973  -0.817    0.414\n",
       "Li           0.523774   0.336609   1.556    0.120\n",
       "Blast       -0.006348   0.005820  -1.091    0.275\n",
       "Temp        -0.001145   0.002350  -0.487    0.626\n",
       "\n",
       "(Dispersion parameter for binomial family taken to be 1)\n",
       "\n",
       "    Null deviance: 26.734  on 20  degrees of freedom\n",
       "Residual deviance: 15.965  on 14  degrees of freedom\n",
       "AIC: 29.965\n",
       "\n",
       "Number of Fisher Scoring iterations: 7\n"
      ]
     },
     "metadata": {},
     "output_type": "display_data"
    }
   ],
   "source": [
    "#fit genaralized linear model\n",
    "regmod<-glm(Remiss~.,data = train_data,family=binomial())\n",
    "summary(regmod)"
   ]
  },
  {
   "cell_type": "code",
   "execution_count": 6,
   "id": "0e06b213",
   "metadata": {},
   "outputs": [],
   "source": [
    "#predict\n",
    "prob<- predict(regmod, test_data,type=\"response\")\n",
    "prob1<- data.frame(prob)"
   ]
  },
  {
   "cell_type": "code",
   "execution_count": 7,
   "id": "32321209",
   "metadata": {},
   "outputs": [
    {
     "data": {
      "text/html": [
       "<table>\n",
       "<thead><tr><th></th><th scope=col>prob</th></tr></thead>\n",
       "<tbody>\n",
       "\t<tr><th scope=row>2</th><td>7.497492e-02</td></tr>\n",
       "\t<tr><th scope=row>9</th><td>1.511490e-02</td></tr>\n",
       "\t<tr><th scope=row>11</th><td>2.815053e-04</td></tr>\n",
       "\t<tr><th scope=row>17</th><td>8.647806e-05</td></tr>\n",
       "\t<tr><th scope=row>19</th><td>2.481645e-04</td></tr>\n",
       "\t<tr><th scope=row>20</th><td>5.677527e-01</td></tr>\n",
       "</tbody>\n",
       "</table>\n"
      ],
      "text/latex": [
       "\\begin{tabular}{r|l}\n",
       "  & prob\\\\\n",
       "\\hline\n",
       "\t2 & 7.497492e-02\\\\\n",
       "\t9 & 1.511490e-02\\\\\n",
       "\t11 & 2.815053e-04\\\\\n",
       "\t17 & 8.647806e-05\\\\\n",
       "\t19 & 2.481645e-04\\\\\n",
       "\t20 & 5.677527e-01\\\\\n",
       "\\end{tabular}\n"
      ],
      "text/markdown": [
       "\n",
       "| <!--/--> | prob |\n",
       "|---|---|\n",
       "| 2 | 7.497492e-02 |\n",
       "| 9 | 1.511490e-02 |\n",
       "| 11 | 2.815053e-04 |\n",
       "| 17 | 8.647806e-05 |\n",
       "| 19 | 2.481645e-04 |\n",
       "| 20 | 5.677527e-01 |\n",
       "\n"
      ],
      "text/plain": [
       "   prob        \n",
       "2  7.497492e-02\n",
       "9  1.511490e-02\n",
       "11 2.815053e-04\n",
       "17 8.647806e-05\n",
       "19 2.481645e-04\n",
       "20 5.677527e-01"
      ]
     },
     "metadata": {},
     "output_type": "display_data"
    }
   ],
   "source": [
    "head(prob1)"
   ]
  },
  {
   "cell_type": "code",
   "execution_count": 8,
   "id": "3129db85",
   "metadata": {},
   "outputs": [
    {
     "name": "stderr",
     "output_type": "stream",
     "text": [
      "Loading required package: lattice\n",
      "Loading required package: ggplot2\n",
      "Error: package or namespace load failed for 'ggplot2' in loadNamespace(j <- i[[1L]], c(lib.loc, .libPaths()), versionCheck = vI[[j]]):\n",
      " there is no package called 'pillar'\n"
     ]
    },
    {
     "ename": "ERROR",
     "evalue": "Error: package 'ggplot2' could not be loaded\n",
     "output_type": "error",
     "traceback": [
      "Error: package 'ggplot2' could not be loaded\nTraceback:\n",
      "1. library(caret)",
      "2. .getRequiredPackages2(pkgInfo, quietly = quietly)",
      "3. stop(gettextf(\"package %s could not be loaded\", sQuote(pkg)), \n .     call. = FALSE, domain = NA)"
     ]
    }
   ],
   "source": [
    "#create confusion matrix\n",
    "result=ifelse(prob>0.5,1,0)\n",
    "\n",
    "library(caret)\n",
    "cm=confusionMatrix(as.factor(testing_high),\n",
    "                   as.factor(result),positive = '1')"
   ]
  },
  {
   "cell_type": "code",
   "execution_count": 9,
   "id": "ce647b04",
   "metadata": {},
   "outputs": [
    {
     "data": {
      "text/html": [
       "<pre class=language-r><code>function (x) \n",
       "2.54 * x</code></pre>"
      ],
      "text/latex": [
       "\\begin{minted}{r}\n",
       "function (x) \n",
       "2.54 * x\n",
       "\\end{minted}"
      ],
      "text/markdown": [
       "```r\n",
       "function (x) \n",
       "2.54 * x\n",
       "```"
      ],
      "text/plain": [
       "function (x) \n",
       "2.54 * x\n",
       "<bytecode: 0x0000000041d127c0>\n",
       "<environment: namespace:grDevices>"
      ]
     },
     "metadata": {},
     "output_type": "display_data"
    }
   ],
   "source": [
    "cm"
   ]
  },
  {
   "cell_type": "code",
   "execution_count": 10,
   "id": "434cd075",
   "metadata": {},
   "outputs": [
    {
     "name": "stderr",
     "output_type": "stream",
     "text": [
      "Warning message:\n",
      "\"package 'gmodels' was built under R version 3.6.3\""
     ]
    },
    {
     "name": "stdout",
     "output_type": "stream",
     "text": [
      "\n",
      " \n",
      "   Cell Contents\n",
      "|-------------------------|\n",
      "|                       N |\n",
      "|           N / Row Total |\n",
      "|           N / Col Total |\n",
      "|         N / Table Total |\n",
      "|-------------------------|\n",
      "\n",
      " \n",
      "Total Observations in Table:  6 \n",
      "\n",
      " \n",
      "             | result \n",
      "testing_high |         0 |         1 | Row Total | \n",
      "-------------|-----------|-----------|-----------|\n",
      "           0 |         4 |         0 |         4 | \n",
      "             |     1.000 |     0.000 |     0.667 | \n",
      "             |     0.800 |     0.000 |           | \n",
      "             |     0.667 |     0.000 |           | \n",
      "-------------|-----------|-----------|-----------|\n",
      "           1 |         1 |         1 |         2 | \n",
      "             |     0.500 |     0.500 |     0.333 | \n",
      "             |     0.200 |     1.000 |           | \n",
      "             |     0.167 |     0.167 |           | \n",
      "-------------|-----------|-----------|-----------|\n",
      "Column Total |         5 |         1 |         6 | \n",
      "             |     0.833 |     0.167 |           | \n",
      "-------------|-----------|-----------|-----------|\n",
      "\n",
      " \n"
     ]
    }
   ],
   "source": [
    "#look at cross table\n",
    "library(gmodels)\n",
    "CrossTable(testing_high,result,prop.chisq = FALSE)"
   ]
  },
  {
   "cell_type": "code",
   "execution_count": 11,
   "id": "7cac4506",
   "metadata": {},
   "outputs": [],
   "source": [
    "#combine and write to local\n",
    "final=cbind(testing_high,prob1)\n",
    "write.csv(final,\"Remission_Preds.csv\")"
   ]
  }
 ],
 "metadata": {
  "kernelspec": {
   "display_name": "R",
   "language": "R",
   "name": "ir"
  },
  "language_info": {
   "codemirror_mode": "r",
   "file_extension": ".r",
   "mimetype": "text/x-r-source",
   "name": "R",
   "pygments_lexer": "r",
   "version": "3.6.1"
  }
 },
 "nbformat": 4,
 "nbformat_minor": 5
}

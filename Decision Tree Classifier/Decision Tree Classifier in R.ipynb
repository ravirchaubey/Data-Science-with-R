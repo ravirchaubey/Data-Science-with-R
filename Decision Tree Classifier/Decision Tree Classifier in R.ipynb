{
 "cells": [
  {
   "cell_type": "code",
   "execution_count": 1,
   "id": "6e0cb999",
   "metadata": {},
   "outputs": [],
   "source": [
    "#to turn off warnings\n",
    "options(warn=-1)"
   ]
  },
  {
   "cell_type": "code",
   "execution_count": 2,
   "id": "2bceb89c",
   "metadata": {},
   "outputs": [],
   "source": [
    "#read data\n",
    "data=read.csv(\"churn_data.csv\")\n",
    "newData=data[,-c(1,2,3)]"
   ]
  },
  {
   "cell_type": "code",
   "execution_count": 3,
   "id": "1f79d30f",
   "metadata": {},
   "outputs": [
    {
     "data": {
      "text/html": [
       "<table>\n",
       "<thead><tr><th scope=col>international_plan</th><th scope=col>voice_mail_plan</th><th scope=col>number_vmail_messages</th><th scope=col>total_day_minutes</th><th scope=col>total_day_calls</th><th scope=col>total_day_charge</th><th scope=col>total_eve_minutes</th><th scope=col>total_eve_calls</th><th scope=col>total_eve_charge</th><th scope=col>total_night_minutes</th><th scope=col>total_night_calls</th><th scope=col>total_night_charge</th><th scope=col>total_intl_minutes</th><th scope=col>total_intl_calls</th><th scope=col>total_intl_charge</th><th scope=col>number_customer_service_calls</th><th scope=col>churn</th></tr></thead>\n",
       "<tbody>\n",
       "\t<tr><td>no   </td><td>yes  </td><td>25   </td><td>265.1</td><td>110  </td><td>45.07</td><td>197.4</td><td> 99  </td><td>16.78</td><td>244.7</td><td> 91  </td><td>11.01</td><td>10.0 </td><td>3    </td><td>2.70 </td><td>1    </td><td>no   </td></tr>\n",
       "\t<tr><td>no   </td><td>yes  </td><td>26   </td><td>161.6</td><td>123  </td><td>27.47</td><td>195.5</td><td>103  </td><td>16.62</td><td>254.4</td><td>103  </td><td>11.45</td><td>13.7 </td><td>3    </td><td>3.70 </td><td>1    </td><td>no   </td></tr>\n",
       "\t<tr><td>no   </td><td>no   </td><td> 0   </td><td>243.4</td><td>114  </td><td>41.38</td><td>121.2</td><td>110  </td><td>10.30</td><td>162.6</td><td>104  </td><td> 7.32</td><td>12.2 </td><td>5    </td><td>3.29 </td><td>0    </td><td>no   </td></tr>\n",
       "\t<tr><td>yes  </td><td>no   </td><td> 0   </td><td>299.4</td><td> 71  </td><td>50.90</td><td> 61.9</td><td> 88  </td><td> 5.26</td><td>196.9</td><td> 89  </td><td> 8.86</td><td> 6.6 </td><td>7    </td><td>1.78 </td><td>2    </td><td>no   </td></tr>\n",
       "\t<tr><td>yes  </td><td>no   </td><td> 0   </td><td>166.7</td><td>113  </td><td>28.34</td><td>148.3</td><td>122  </td><td>12.61</td><td>186.9</td><td>121  </td><td> 8.41</td><td>10.1 </td><td>3    </td><td>2.73 </td><td>3    </td><td>no   </td></tr>\n",
       "\t<tr><td>yes  </td><td>no   </td><td> 0   </td><td>223.4</td><td> 98  </td><td>37.98</td><td>220.6</td><td>101  </td><td>18.75</td><td>203.9</td><td>118  </td><td> 9.18</td><td> 6.3 </td><td>6    </td><td>1.70 </td><td>0    </td><td>no   </td></tr>\n",
       "</tbody>\n",
       "</table>\n"
      ],
      "text/latex": [
       "\\begin{tabular}{r|lllllllllllllllll}\n",
       " international\\_plan & voice\\_mail\\_plan & number\\_vmail\\_messages & total\\_day\\_minutes & total\\_day\\_calls & total\\_day\\_charge & total\\_eve\\_minutes & total\\_eve\\_calls & total\\_eve\\_charge & total\\_night\\_minutes & total\\_night\\_calls & total\\_night\\_charge & total\\_intl\\_minutes & total\\_intl\\_calls & total\\_intl\\_charge & number\\_customer\\_service\\_calls & churn\\\\\n",
       "\\hline\n",
       "\t no    & yes   & 25    & 265.1 & 110   & 45.07 & 197.4 &  99   & 16.78 & 244.7 &  91   & 11.01 & 10.0  & 3     & 2.70  & 1     & no   \\\\\n",
       "\t no    & yes   & 26    & 161.6 & 123   & 27.47 & 195.5 & 103   & 16.62 & 254.4 & 103   & 11.45 & 13.7  & 3     & 3.70  & 1     & no   \\\\\n",
       "\t no    & no    &  0    & 243.4 & 114   & 41.38 & 121.2 & 110   & 10.30 & 162.6 & 104   &  7.32 & 12.2  & 5     & 3.29  & 0     & no   \\\\\n",
       "\t yes   & no    &  0    & 299.4 &  71   & 50.90 &  61.9 &  88   &  5.26 & 196.9 &  89   &  8.86 &  6.6  & 7     & 1.78  & 2     & no   \\\\\n",
       "\t yes   & no    &  0    & 166.7 & 113   & 28.34 & 148.3 & 122   & 12.61 & 186.9 & 121   &  8.41 & 10.1  & 3     & 2.73  & 3     & no   \\\\\n",
       "\t yes   & no    &  0    & 223.4 &  98   & 37.98 & 220.6 & 101   & 18.75 & 203.9 & 118   &  9.18 &  6.3  & 6     & 1.70  & 0     & no   \\\\\n",
       "\\end{tabular}\n"
      ],
      "text/markdown": [
       "\n",
       "| international_plan | voice_mail_plan | number_vmail_messages | total_day_minutes | total_day_calls | total_day_charge | total_eve_minutes | total_eve_calls | total_eve_charge | total_night_minutes | total_night_calls | total_night_charge | total_intl_minutes | total_intl_calls | total_intl_charge | number_customer_service_calls | churn |\n",
       "|---|---|---|---|---|---|---|---|---|---|---|---|---|---|---|---|---|\n",
       "| no    | yes   | 25    | 265.1 | 110   | 45.07 | 197.4 |  99   | 16.78 | 244.7 |  91   | 11.01 | 10.0  | 3     | 2.70  | 1     | no    |\n",
       "| no    | yes   | 26    | 161.6 | 123   | 27.47 | 195.5 | 103   | 16.62 | 254.4 | 103   | 11.45 | 13.7  | 3     | 3.70  | 1     | no    |\n",
       "| no    | no    |  0    | 243.4 | 114   | 41.38 | 121.2 | 110   | 10.30 | 162.6 | 104   |  7.32 | 12.2  | 5     | 3.29  | 0     | no    |\n",
       "| yes   | no    |  0    | 299.4 |  71   | 50.90 |  61.9 |  88   |  5.26 | 196.9 |  89   |  8.86 |  6.6  | 7     | 1.78  | 2     | no    |\n",
       "| yes   | no    |  0    | 166.7 | 113   | 28.34 | 148.3 | 122   | 12.61 | 186.9 | 121   |  8.41 | 10.1  | 3     | 2.73  | 3     | no    |\n",
       "| yes   | no    |  0    | 223.4 |  98   | 37.98 | 220.6 | 101   | 18.75 | 203.9 | 118   |  9.18 |  6.3  | 6     | 1.70  | 0     | no    |\n",
       "\n"
      ],
      "text/plain": [
       "  international_plan voice_mail_plan number_vmail_messages total_day_minutes\n",
       "1 no                 yes             25                    265.1            \n",
       "2 no                 yes             26                    161.6            \n",
       "3 no                 no               0                    243.4            \n",
       "4 yes                no               0                    299.4            \n",
       "5 yes                no               0                    166.7            \n",
       "6 yes                no               0                    223.4            \n",
       "  total_day_calls total_day_charge total_eve_minutes total_eve_calls\n",
       "1 110             45.07            197.4              99            \n",
       "2 123             27.47            195.5             103            \n",
       "3 114             41.38            121.2             110            \n",
       "4  71             50.90             61.9              88            \n",
       "5 113             28.34            148.3             122            \n",
       "6  98             37.98            220.6             101            \n",
       "  total_eve_charge total_night_minutes total_night_calls total_night_charge\n",
       "1 16.78            244.7                91               11.01             \n",
       "2 16.62            254.4               103               11.45             \n",
       "3 10.30            162.6               104                7.32             \n",
       "4  5.26            196.9                89                8.86             \n",
       "5 12.61            186.9               121                8.41             \n",
       "6 18.75            203.9               118                9.18             \n",
       "  total_intl_minutes total_intl_calls total_intl_charge\n",
       "1 10.0               3                2.70             \n",
       "2 13.7               3                3.70             \n",
       "3 12.2               5                3.29             \n",
       "4  6.6               7                1.78             \n",
       "5 10.1               3                2.73             \n",
       "6  6.3               6                1.70             \n",
       "  number_customer_service_calls churn\n",
       "1 1                             no   \n",
       "2 1                             no   \n",
       "3 0                             no   \n",
       "4 2                             no   \n",
       "5 3                             no   \n",
       "6 0                             no   "
      ]
     },
     "metadata": {},
     "output_type": "display_data"
    }
   ],
   "source": [
    "head(newData)"
   ]
  },
  {
   "cell_type": "code",
   "execution_count": 4,
   "id": "57c0adc9",
   "metadata": {},
   "outputs": [
    {
     "data": {
      "text/html": [
       "<table>\n",
       "<thead><tr><th></th><th scope=col>international_plan</th><th scope=col>voice_mail_plan</th><th scope=col>number_vmail_messages</th><th scope=col>total_day_minutes</th><th scope=col>total_day_calls</th><th scope=col>total_day_charge</th><th scope=col>total_eve_minutes</th><th scope=col>total_eve_calls</th><th scope=col>total_eve_charge</th><th scope=col>total_night_minutes</th><th scope=col>total_night_calls</th><th scope=col>total_night_charge</th><th scope=col>total_intl_minutes</th><th scope=col>total_intl_calls</th><th scope=col>total_intl_charge</th><th scope=col>number_customer_service_calls</th><th scope=col>churn</th></tr></thead>\n",
       "<tbody>\n",
       "\t<tr><th scope=row>4995</th><td>no   </td><td>no   </td><td> 0   </td><td>170.7</td><td>101  </td><td>29.02</td><td>193.1</td><td>126  </td><td>16.41</td><td>129.1</td><td>104  </td><td> 5.81</td><td> 6.9 </td><td> 7   </td><td>1.86 </td><td>1    </td><td>no   </td></tr>\n",
       "\t<tr><th scope=row>4996</th><td>no   </td><td>yes  </td><td>40   </td><td>235.7</td><td>127  </td><td>40.07</td><td>223.0</td><td>126  </td><td>18.96</td><td>297.5</td><td>116  </td><td>13.39</td><td> 9.9 </td><td> 5   </td><td>2.67 </td><td>2    </td><td>no   </td></tr>\n",
       "\t<tr><th scope=row>4997</th><td>no   </td><td>no   </td><td> 0   </td><td>184.2</td><td> 90  </td><td>31.31</td><td>256.8</td><td> 73  </td><td>21.83</td><td>213.6</td><td>113  </td><td> 9.61</td><td>14.7 </td><td> 2   </td><td>3.97 </td><td>3    </td><td>yes  </td></tr>\n",
       "\t<tr><th scope=row>4998</th><td>no   </td><td>no   </td><td> 0   </td><td>140.6</td><td> 89  </td><td>23.90</td><td>172.8</td><td>128  </td><td>14.69</td><td>212.4</td><td> 97  </td><td> 9.56</td><td>13.6 </td><td> 4   </td><td>3.67 </td><td>1    </td><td>no   </td></tr>\n",
       "\t<tr><th scope=row>4999</th><td>no   </td><td>no   </td><td> 0   </td><td>188.8</td><td> 67  </td><td>32.10</td><td>171.7</td><td> 92  </td><td>14.59</td><td>224.4</td><td> 89  </td><td>10.10</td><td> 8.5 </td><td> 6   </td><td>2.30 </td><td>0    </td><td>no   </td></tr>\n",
       "\t<tr><th scope=row>5000</th><td>no   </td><td>yes  </td><td>34   </td><td>129.4</td><td>102  </td><td>22.00</td><td>267.1</td><td>104  </td><td>22.70</td><td>154.8</td><td>100  </td><td> 6.97</td><td> 9.3 </td><td>16   </td><td>2.51 </td><td>0    </td><td>no   </td></tr>\n",
       "</tbody>\n",
       "</table>\n"
      ],
      "text/latex": [
       "\\begin{tabular}{r|lllllllllllllllll}\n",
       "  & international\\_plan & voice\\_mail\\_plan & number\\_vmail\\_messages & total\\_day\\_minutes & total\\_day\\_calls & total\\_day\\_charge & total\\_eve\\_minutes & total\\_eve\\_calls & total\\_eve\\_charge & total\\_night\\_minutes & total\\_night\\_calls & total\\_night\\_charge & total\\_intl\\_minutes & total\\_intl\\_calls & total\\_intl\\_charge & number\\_customer\\_service\\_calls & churn\\\\\n",
       "\\hline\n",
       "\t4995 & no    & no    &  0    & 170.7 & 101   & 29.02 & 193.1 & 126   & 16.41 & 129.1 & 104   &  5.81 &  6.9  &  7    & 1.86  & 1     & no   \\\\\n",
       "\t4996 & no    & yes   & 40    & 235.7 & 127   & 40.07 & 223.0 & 126   & 18.96 & 297.5 & 116   & 13.39 &  9.9  &  5    & 2.67  & 2     & no   \\\\\n",
       "\t4997 & no    & no    &  0    & 184.2 &  90   & 31.31 & 256.8 &  73   & 21.83 & 213.6 & 113   &  9.61 & 14.7  &  2    & 3.97  & 3     & yes  \\\\\n",
       "\t4998 & no    & no    &  0    & 140.6 &  89   & 23.90 & 172.8 & 128   & 14.69 & 212.4 &  97   &  9.56 & 13.6  &  4    & 3.67  & 1     & no   \\\\\n",
       "\t4999 & no    & no    &  0    & 188.8 &  67   & 32.10 & 171.7 &  92   & 14.59 & 224.4 &  89   & 10.10 &  8.5  &  6    & 2.30  & 0     & no   \\\\\n",
       "\t5000 & no    & yes   & 34    & 129.4 & 102   & 22.00 & 267.1 & 104   & 22.70 & 154.8 & 100   &  6.97 &  9.3  & 16    & 2.51  & 0     & no   \\\\\n",
       "\\end{tabular}\n"
      ],
      "text/markdown": [
       "\n",
       "| <!--/--> | international_plan | voice_mail_plan | number_vmail_messages | total_day_minutes | total_day_calls | total_day_charge | total_eve_minutes | total_eve_calls | total_eve_charge | total_night_minutes | total_night_calls | total_night_charge | total_intl_minutes | total_intl_calls | total_intl_charge | number_customer_service_calls | churn |\n",
       "|---|---|---|---|---|---|---|---|---|---|---|---|---|---|---|---|---|---|\n",
       "| 4995 | no    | no    |  0    | 170.7 | 101   | 29.02 | 193.1 | 126   | 16.41 | 129.1 | 104   |  5.81 |  6.9  |  7    | 1.86  | 1     | no    |\n",
       "| 4996 | no    | yes   | 40    | 235.7 | 127   | 40.07 | 223.0 | 126   | 18.96 | 297.5 | 116   | 13.39 |  9.9  |  5    | 2.67  | 2     | no    |\n",
       "| 4997 | no    | no    |  0    | 184.2 |  90   | 31.31 | 256.8 |  73   | 21.83 | 213.6 | 113   |  9.61 | 14.7  |  2    | 3.97  | 3     | yes   |\n",
       "| 4998 | no    | no    |  0    | 140.6 |  89   | 23.90 | 172.8 | 128   | 14.69 | 212.4 |  97   |  9.56 | 13.6  |  4    | 3.67  | 1     | no    |\n",
       "| 4999 | no    | no    |  0    | 188.8 |  67   | 32.10 | 171.7 |  92   | 14.59 | 224.4 |  89   | 10.10 |  8.5  |  6    | 2.30  | 0     | no    |\n",
       "| 5000 | no    | yes   | 34    | 129.4 | 102   | 22.00 | 267.1 | 104   | 22.70 | 154.8 | 100   |  6.97 |  9.3  | 16    | 2.51  | 0     | no    |\n",
       "\n"
      ],
      "text/plain": [
       "     international_plan voice_mail_plan number_vmail_messages total_day_minutes\n",
       "4995 no                 no               0                    170.7            \n",
       "4996 no                 yes             40                    235.7            \n",
       "4997 no                 no               0                    184.2            \n",
       "4998 no                 no               0                    140.6            \n",
       "4999 no                 no               0                    188.8            \n",
       "5000 no                 yes             34                    129.4            \n",
       "     total_day_calls total_day_charge total_eve_minutes total_eve_calls\n",
       "4995 101             29.02            193.1             126            \n",
       "4996 127             40.07            223.0             126            \n",
       "4997  90             31.31            256.8              73            \n",
       "4998  89             23.90            172.8             128            \n",
       "4999  67             32.10            171.7              92            \n",
       "5000 102             22.00            267.1             104            \n",
       "     total_eve_charge total_night_minutes total_night_calls total_night_charge\n",
       "4995 16.41            129.1               104                5.81             \n",
       "4996 18.96            297.5               116               13.39             \n",
       "4997 21.83            213.6               113                9.61             \n",
       "4998 14.69            212.4                97                9.56             \n",
       "4999 14.59            224.4                89               10.10             \n",
       "5000 22.70            154.8               100                6.97             \n",
       "     total_intl_minutes total_intl_calls total_intl_charge\n",
       "4995  6.9                7               1.86             \n",
       "4996  9.9                5               2.67             \n",
       "4997 14.7                2               3.97             \n",
       "4998 13.6                4               3.67             \n",
       "4999  8.5                6               2.30             \n",
       "5000  9.3               16               2.51             \n",
       "     number_customer_service_calls churn\n",
       "4995 1                             no   \n",
       "4996 2                             no   \n",
       "4997 3                             yes  \n",
       "4998 1                             no   \n",
       "4999 0                             no   \n",
       "5000 0                             no   "
      ]
     },
     "metadata": {},
     "output_type": "display_data"
    }
   ],
   "source": [
    "tail(newData)"
   ]
  },
  {
   "cell_type": "code",
   "execution_count": 5,
   "id": "826ab4e9",
   "metadata": {},
   "outputs": [],
   "source": [
    "#split data\n",
    "library(caTools)\n",
    "set.seed(2)\n",
    "sample=sample.split(newData$churn,SplitRatio = 0.70)\n",
    "trainData=subset(newData,sample==TRUE)\n",
    "testData=subset(newData,sample==FALSE)"
   ]
  },
  {
   "cell_type": "code",
   "execution_count": 6,
   "id": "c1702ad6",
   "metadata": {},
   "outputs": [],
   "source": [
    "#data modelling\n",
    "library(rpart)\n",
    "model=rpart(churn~.,trainData)"
   ]
  },
  {
   "cell_type": "code",
   "execution_count": 7,
   "id": "dbf59777",
   "metadata": {},
   "outputs": [
    {
     "name": "stderr",
     "output_type": "stream",
     "text": [
      "Loading required package: tibble\n",
      "Loading required package: bitops\n",
      "Rattle: A free graphical interface for data science with R.\n",
      "Version 5.4.0 Copyright (c) 2006-2020 Togaware Pty Ltd.\n",
      "Type 'rattle()' to shake, rattle, and roll your data.\n"
     ]
    },
    {
     "data": {
      "image/png": "[encoded data removed]",
      "text/plain": [
       "Plot with title \"\""
      ]
     },
     "metadata": {},
     "output_type": "display_data"
    }
   ],
   "source": [
    "#plot tree\n",
    "library(rattle)\n",
    "library(rpart.plot)\n",
    "fancyRpartPlot(model)"
   ]
  },
  {
   "cell_type": "code",
   "execution_count": 8,
   "id": "79bb2e26",
   "metadata": {},
   "outputs": [
    {
     "data": {
      "text/html": [
       "<dl class=dl-horizontal>\n",
       "\t<dt>5</dt>\n",
       "\t\t<dd>no</dd>\n",
       "\t<dt>6</dt>\n",
       "\t\t<dd>no</dd>\n",
       "\t<dt>8</dt>\n",
       "\t\t<dd>no</dd>\n",
       "\t<dt>14</dt>\n",
       "\t\t<dd>no</dd>\n",
       "\t<dt>18</dt>\n",
       "\t\t<dd>no</dd>\n",
       "</dl>\n",
       "\n",
       "<details>\n",
       "\t<summary style=display:list-item;cursor:pointer>\n",
       "\t\t<strong>Levels</strong>:\n",
       "\t</summary>\n",
       "\t<ol class=list-inline>\n",
       "\t\t<li>'no'</li>\n",
       "\t\t<li>'yes'</li>\n",
       "\t</ol>\n",
       "</details>"
      ],
      "text/latex": [
       "\\begin{description*}\n",
       "\\item[5] no\n",
       "\\item[6] no\n",
       "\\item[8] no\n",
       "\\item[14] no\n",
       "\\item[18] no\n",
       "\\end{description*}\n",
       "\n",
       "\\emph{Levels}: \\begin{enumerate*}\n",
       "\\item 'no'\n",
       "\\item 'yes'\n",
       "\\end{enumerate*}\n"
      ],
      "text/markdown": [
       "5\n",
       ":   no6\n",
       ":   no8\n",
       ":   no14\n",
       ":   no18\n",
       ":   no\n",
       "\n",
       "\n",
       "**Levels**: 1. 'no'\n",
       "2. 'yes'\n",
       "\n",
       "\n"
      ],
      "text/plain": [
       " 5  6  8 14 18 \n",
       "no no no no no \n",
       "Levels: no yes"
      ]
     },
     "metadata": {},
     "output_type": "display_data"
    }
   ],
   "source": [
    "#make prediction\n",
    "pred=predict(model,testData,type=\"class\")\n",
    "pred[c(1:5)]"
   ]
  },
  {
   "cell_type": "code",
   "execution_count": 9,
   "id": "7e58be24",
   "metadata": {},
   "outputs": [
    {
     "name": "stderr",
     "output_type": "stream",
     "text": [
      "Loading required package: lattice\n",
      "Loading required package: ggplot2\n",
      "Registered S3 methods overwritten by 'ggplot2':\n",
      "  method         from \n",
      "  [.quosures     rlang\n",
      "  c.quosures     rlang\n",
      "  print.quosures rlang\n"
     ]
    },
    {
     "data": {
      "text/plain": [
       "Confusion Matrix and Statistics\n",
       "\n",
       "          Reference\n",
       "Prediction   no  yes\n",
       "       no  1275   13\n",
       "       yes   51  161\n",
       "                                         \n",
       "               Accuracy : 0.9573         \n",
       "                 95% CI : (0.9458, 0.967)\n",
       "    No Information Rate : 0.884          \n",
       "    P-Value [Acc > NIR] : < 2.2e-16      \n",
       "                                         \n",
       "                  Kappa : 0.81           \n",
       "                                         \n",
       " Mcnemar's Test P-Value : 3.746e-06      \n",
       "                                         \n",
       "            Sensitivity : 0.9615         \n",
       "            Specificity : 0.9253         \n",
       "         Pos Pred Value : 0.9899         \n",
       "         Neg Pred Value : 0.7594         \n",
       "             Prevalence : 0.8840         \n",
       "         Detection Rate : 0.8500         \n",
       "   Detection Prevalence : 0.8587         \n",
       "      Balanced Accuracy : 0.9434         \n",
       "                                         \n",
       "       'Positive' Class : no             \n",
       "                                         "
      ]
     },
     "metadata": {},
     "output_type": "display_data"
    }
   ],
   "source": [
    "#create confusion matrix\n",
    "library(caret)\n",
    "cm=confusionMatrix(as.factor(testData$churn),as.factor(pred))\n",
    "cm"
   ]
  }
 ],
 "metadata": {
  "kernelspec": {
   "display_name": "R",
   "language": "R",
   "name": "ir"
  },
  "language_info": {
   "codemirror_mode": "r",
   "file_extension": ".r",
   "mimetype": "text/x-r-source",
   "name": "R",
   "pygments_lexer": "r",
   "version": "3.6.1"
  }
 },
 "nbformat": 4,
 "nbformat_minor": 5
}
